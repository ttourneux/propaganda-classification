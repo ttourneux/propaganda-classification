{
 "cells": [
  {
   "cell_type": "code",
   "execution_count": 1,
   "id": "e31dfc8f",
   "metadata": {},
   "outputs": [],
   "source": [
    "!python datasets.py"
   ]
  },
  {
   "cell_type": "code",
   "execution_count": 169,
   "id": "f15f3520",
   "metadata": {},
   "outputs": [],
   "source": [
    "import math\n",
    "import numpy as np\n",
    "import scipy\n",
    "import pandas as pd\n",
    "import matplotlib as mpl\n",
    "import matplotlib.pyplot as plt\n",
    "import sklearn as skl\n",
    "import io\n",
    "import pickle\n",
    "\n",
    "from pandas import read_csv\n",
    "from pandas.plotting import scatter_matrix\n",
    "from matplotlib import pyplot\n",
    "from sklearn.model_selection import train_test_split\n",
    "from sklearn.model_selection import cross_val_score\n",
    "from sklearn.model_selection import StratifiedKFold\n",
    "from sklearn.metrics import classification_report\n",
    "from sklearn.metrics import confusion_matrix\n",
    "from sklearn.metrics import accuracy_score\n",
    "from sklearn.linear_model import LogisticRegression\n",
    "from sklearn.tree import DecisionTreeClassifier\n",
    "from sklearn.neighbors import KNeighborsClassifier\n",
    "from sklearn.discriminant_analysis import LinearDiscriminantAnalysis\n",
    "from sklearn.naive_bayes import GaussianNB\n",
    "from sklearn.svm import SVC\n",
    "\n",
    "from sklearn.ensemble import RandomForestClassifier\n",
    "from sklearn.datasets import make_classification\n",
    "from sklearn.ensemble import ExtraTreesClassifier\n",
    "from sklearn.datasets import make_classification\n",
    "from sklearn.dummy import DummyRegressor\n",
    "\n",
    "from sklearn.linear_model import Lasso\n",
    "from sklearn.neural_network import MLPClassifier\n",
    "\n",
    "from sklearn.metrics import roc_curve, roc_auc_score\n",
    "from sklearn.metrics import accuracy_score\n",
    "from sklearn.metrics import ConfusionMatrixDisplay\n",
    "from sklearn.inspection import permutation_importance"
   ]
  },
  {
   "cell_type": "code",
   "execution_count": 2,
   "id": "0cb92c2c",
   "metadata": {},
   "outputs": [],
   "source": [
    "\n",
    "\n",
    "import datasets\n",
    "\n",
    "DS = datasets.Datasets()\n",
    "\n"
   ]
  },
  {
   "cell_type": "code",
   "execution_count": 3,
   "id": "3b0e6100",
   "metadata": {
    "scrolled": true
   },
   "outputs": [],
   "source": [
    "tweets = DS.tweets_df\n",
    "retweets = DS.retweets_df"
   ]
  },
  {
   "cell_type": "code",
   "execution_count": 4,
   "id": "6c40f7e5",
   "metadata": {
    "scrolled": false
   },
   "outputs": [],
   "source": [
    "twitter = tweets.append(retweets)\n",
    "twitter = twitter.fillna(0)"
   ]
  },
  {
   "cell_type": "code",
   "execution_count": 5,
   "id": "b1333da1",
   "metadata": {},
   "outputs": [],
   "source": [
    "## import analysis. Maybe make into modules"
   ]
  },
  {
   "cell_type": "code",
   "execution_count": 6,
   "id": "b816e521",
   "metadata": {},
   "outputs": [
    {
     "data": {
      "text/html": [
       "<div>\n",
       "<style scoped>\n",
       "    .dataframe tbody tr th:only-of-type {\n",
       "        vertical-align: middle;\n",
       "    }\n",
       "\n",
       "    .dataframe tbody tr th {\n",
       "        vertical-align: top;\n",
       "    }\n",
       "\n",
       "    .dataframe thead th {\n",
       "        text-align: right;\n",
       "    }\n",
       "</style>\n",
       "<table border=\"1\" class=\"dataframe\">\n",
       "  <thead>\n",
       "    <tr style=\"text-align: right;\">\n",
       "      <th></th>\n",
       "      <th>Unnamed: 0</th>\n",
       "      <th>Unnamed: 0.1</th>\n",
       "      <th>File Name</th>\n",
       "      <th>Candidate</th>\n",
       "      <th>Sentence</th>\n",
       "      <th>Propaganda Segments</th>\n",
       "      <th>Loaded_Language</th>\n",
       "      <th>Name_Calling,Labeling</th>\n",
       "      <th>Repetition</th>\n",
       "      <th>Exaggeration,Minimisation</th>\n",
       "      <th>...</th>\n",
       "      <th>Appeal_to_Authority</th>\n",
       "      <th>Black-and-White_Fallacy</th>\n",
       "      <th>Thought-terminating Cliches</th>\n",
       "      <th>Whataboutism,Straw_Men,Red_Herring</th>\n",
       "      <th>Obfuscation,Intentional_Vagueness,Confusion</th>\n",
       "      <th>Bandwagon,Reductio_ad_hitlerum</th>\n",
       "      <th>Num Prop</th>\n",
       "      <th>Thought-terminating_Cliches</th>\n",
       "      <th>Content_Category</th>\n",
       "      <th>BCandidate</th>\n",
       "    </tr>\n",
       "  </thead>\n",
       "  <tbody>\n",
       "    <tr>\n",
       "      <th>271</th>\n",
       "      <td>271</td>\n",
       "      <td>271.0</td>\n",
       "      <td>DT_tweets_102_1.txt</td>\n",
       "      <td>DT</td>\n",
       "      <td>THANK YOU Atlanta Georgia! Leaving for Nevada ...</td>\n",
       "      <td>Lets MAKE AMERICA SAFE AND GREAT AGAIN: Slogans</td>\n",
       "      <td>0.0</td>\n",
       "      <td>0.0</td>\n",
       "      <td>0.0</td>\n",
       "      <td>0.0</td>\n",
       "      <td>...</td>\n",
       "      <td>0.0</td>\n",
       "      <td>0.0</td>\n",
       "      <td>0.0</td>\n",
       "      <td>0.0</td>\n",
       "      <td>0.0</td>\n",
       "      <td>0.0</td>\n",
       "      <td>1.0</td>\n",
       "      <td>0.0</td>\n",
       "      <td>tweet</td>\n",
       "      <td>1</td>\n",
       "    </tr>\n",
       "    <tr>\n",
       "      <th>272</th>\n",
       "      <td>272</td>\n",
       "      <td>272.0</td>\n",
       "      <td>DT_tweets_104_7.txt</td>\n",
       "      <td>DT</td>\n",
       "      <td>Thank you Michigan! #VoteTrumpMITrump 35%Kasic...</td>\n",
       "      <td>Thank you Michigan: Slogans</td>\n",
       "      <td>0.0</td>\n",
       "      <td>0.0</td>\n",
       "      <td>0.0</td>\n",
       "      <td>0.0</td>\n",
       "      <td>...</td>\n",
       "      <td>0.0</td>\n",
       "      <td>0.0</td>\n",
       "      <td>0.0</td>\n",
       "      <td>0.0</td>\n",
       "      <td>0.0</td>\n",
       "      <td>0.0</td>\n",
       "      <td>1.0</td>\n",
       "      <td>0.0</td>\n",
       "      <td>tweet</td>\n",
       "      <td>1</td>\n",
       "    </tr>\n",
       "    <tr>\n",
       "      <th>273</th>\n",
       "      <td>273</td>\n",
       "      <td>273.0</td>\n",
       "      <td>DT_tweets_113_9.txt</td>\n",
       "      <td>DT</td>\n",
       "      <td>I only wish my wonderful father Fred gave me $...</td>\n",
       "      <td>wonderful father: Name_Calling,Labeling, \"tota...</td>\n",
       "      <td>0.0</td>\n",
       "      <td>2.0</td>\n",
       "      <td>0.0</td>\n",
       "      <td>0.0</td>\n",
       "      <td>...</td>\n",
       "      <td>0.0</td>\n",
       "      <td>0.0</td>\n",
       "      <td>0.0</td>\n",
       "      <td>0.0</td>\n",
       "      <td>0.0</td>\n",
       "      <td>0.0</td>\n",
       "      <td>2.0</td>\n",
       "      <td>0.0</td>\n",
       "      <td>tweet</td>\n",
       "      <td>1</td>\n",
       "    </tr>\n",
       "    <tr>\n",
       "      <th>274</th>\n",
       "      <td>274</td>\n",
       "      <td>274.0</td>\n",
       "      <td>DT_tweets_124_12.txt</td>\n",
       "      <td>DT</td>\n",
       "      <td>Why cant the leaders of the Republican Party s...</td>\n",
       "      <td>Why cant the leaders of the Republican Party s...</td>\n",
       "      <td>0.0</td>\n",
       "      <td>0.0</td>\n",
       "      <td>0.0</td>\n",
       "      <td>0.0</td>\n",
       "      <td>...</td>\n",
       "      <td>0.0</td>\n",
       "      <td>0.0</td>\n",
       "      <td>0.0</td>\n",
       "      <td>0.0</td>\n",
       "      <td>0.0</td>\n",
       "      <td>0.0</td>\n",
       "      <td>1.0</td>\n",
       "      <td>0.0</td>\n",
       "      <td>tweet</td>\n",
       "      <td>1</td>\n",
       "    </tr>\n",
       "    <tr>\n",
       "      <th>275</th>\n",
       "      <td>275</td>\n",
       "      <td>275.0</td>\n",
       "      <td>DT_tweets_124_2.txt</td>\n",
       "      <td>DT</td>\n",
       "      <td>Thank you Massachusetts! #Trump2016 #SuperTues...</td>\n",
       "      <td>Thank you Massachusetts: Slogans</td>\n",
       "      <td>0.0</td>\n",
       "      <td>0.0</td>\n",
       "      <td>0.0</td>\n",
       "      <td>0.0</td>\n",
       "      <td>...</td>\n",
       "      <td>0.0</td>\n",
       "      <td>0.0</td>\n",
       "      <td>0.0</td>\n",
       "      <td>0.0</td>\n",
       "      <td>0.0</td>\n",
       "      <td>0.0</td>\n",
       "      <td>1.0</td>\n",
       "      <td>0.0</td>\n",
       "      <td>tweet</td>\n",
       "      <td>1</td>\n",
       "    </tr>\n",
       "    <tr>\n",
       "      <th>...</th>\n",
       "      <td>...</td>\n",
       "      <td>...</td>\n",
       "      <td>...</td>\n",
       "      <td>...</td>\n",
       "      <td>...</td>\n",
       "      <td>...</td>\n",
       "      <td>...</td>\n",
       "      <td>...</td>\n",
       "      <td>...</td>\n",
       "      <td>...</td>\n",
       "      <td>...</td>\n",
       "      <td>...</td>\n",
       "      <td>...</td>\n",
       "      <td>...</td>\n",
       "      <td>...</td>\n",
       "      <td>...</td>\n",
       "      <td>...</td>\n",
       "      <td>...</td>\n",
       "      <td>...</td>\n",
       "      <td>...</td>\n",
       "      <td>...</td>\n",
       "    </tr>\n",
       "    <tr>\n",
       "      <th>4757</th>\n",
       "      <td>4757</td>\n",
       "      <td>4757.0</td>\n",
       "      <td>DT_retweets_25_4.txt</td>\n",
       "      <td>DT</td>\n",
       "      <td>@CLewandowski_: Massive crowd in Pensacola Flo...</td>\n",
       "      <td>Unbelievable: Loaded_Language</td>\n",
       "      <td>1.0</td>\n",
       "      <td>0.0</td>\n",
       "      <td>0.0</td>\n",
       "      <td>0.0</td>\n",
       "      <td>...</td>\n",
       "      <td>0.0</td>\n",
       "      <td>0.0</td>\n",
       "      <td>0.0</td>\n",
       "      <td>0.0</td>\n",
       "      <td>0.0</td>\n",
       "      <td>0.0</td>\n",
       "      <td>1.0</td>\n",
       "      <td>0.0</td>\n",
       "      <td>retweet</td>\n",
       "      <td>1</td>\n",
       "    </tr>\n",
       "    <tr>\n",
       "      <th>4758</th>\n",
       "      <td>4758</td>\n",
       "      <td>4758.0</td>\n",
       "      <td>DT_retweets_25_5.txt</td>\n",
       "      <td>DT</td>\n",
       "      <td>@ameriflames: @realDonaldTrump @CLewandowski_ ...</td>\n",
       "      <td>no one wants a Bush or a Clinton they want a s...</td>\n",
       "      <td>0.0</td>\n",
       "      <td>0.0</td>\n",
       "      <td>0.0</td>\n",
       "      <td>1.0</td>\n",
       "      <td>...</td>\n",
       "      <td>0.0</td>\n",
       "      <td>0.0</td>\n",
       "      <td>0.0</td>\n",
       "      <td>0.0</td>\n",
       "      <td>0.0</td>\n",
       "      <td>0.0</td>\n",
       "      <td>1.0</td>\n",
       "      <td>0.0</td>\n",
       "      <td>retweet</td>\n",
       "      <td>1</td>\n",
       "    </tr>\n",
       "    <tr>\n",
       "      <th>4759</th>\n",
       "      <td>4759</td>\n",
       "      <td>4759.0</td>\n",
       "      <td>DT_retweets_269_2.txt</td>\n",
       "      <td>DT</td>\n",
       "      <td>@angeloftruth11: Clinton says Trump is dangero...</td>\n",
       "      <td>dangerous: Loaded_Language, \"Whos the one who ...</td>\n",
       "      <td>1.0</td>\n",
       "      <td>0.0</td>\n",
       "      <td>0.0</td>\n",
       "      <td>0.0</td>\n",
       "      <td>...</td>\n",
       "      <td>0.0</td>\n",
       "      <td>0.0</td>\n",
       "      <td>0.0</td>\n",
       "      <td>0.0</td>\n",
       "      <td>0.0</td>\n",
       "      <td>0.0</td>\n",
       "      <td>2.0</td>\n",
       "      <td>0.0</td>\n",
       "      <td>retweet</td>\n",
       "      <td>1</td>\n",
       "    </tr>\n",
       "    <tr>\n",
       "      <th>4760</th>\n",
       "      <td>4760</td>\n",
       "      <td>4760.0</td>\n",
       "      <td>DT_retweets_270_2.txt</td>\n",
       "      <td>DT</td>\n",
       "      <td>@Don_Vito_08: Thank You Mr. Trump for Standing...</td>\n",
       "      <td>Thank You Mr. Trump for Standing up for Our Co...</td>\n",
       "      <td>0.0</td>\n",
       "      <td>0.0</td>\n",
       "      <td>0.0</td>\n",
       "      <td>0.0</td>\n",
       "      <td>...</td>\n",
       "      <td>0.0</td>\n",
       "      <td>0.0</td>\n",
       "      <td>0.0</td>\n",
       "      <td>0.0</td>\n",
       "      <td>0.0</td>\n",
       "      <td>0.0</td>\n",
       "      <td>1.0</td>\n",
       "      <td>0.0</td>\n",
       "      <td>retweet</td>\n",
       "      <td>1</td>\n",
       "    </tr>\n",
       "    <tr>\n",
       "      <th>4761</th>\n",
       "      <td>4761</td>\n",
       "      <td>4761.0</td>\n",
       "      <td>DT_retweets_270_3.txt</td>\n",
       "      <td>DT</td>\n",
       "      <td>@sareed59: Our ineffective #POTUS has to make ...</td>\n",
       "      <td>Our ineffective #POTUS: Name_Calling,Labeling</td>\n",
       "      <td>0.0</td>\n",
       "      <td>1.0</td>\n",
       "      <td>0.0</td>\n",
       "      <td>0.0</td>\n",
       "      <td>...</td>\n",
       "      <td>0.0</td>\n",
       "      <td>0.0</td>\n",
       "      <td>0.0</td>\n",
       "      <td>0.0</td>\n",
       "      <td>0.0</td>\n",
       "      <td>0.0</td>\n",
       "      <td>1.0</td>\n",
       "      <td>0.0</td>\n",
       "      <td>retweet</td>\n",
       "      <td>1</td>\n",
       "    </tr>\n",
       "  </tbody>\n",
       "</table>\n",
       "<p>4560 rows × 25 columns</p>\n",
       "</div>"
      ],
      "text/plain": [
       "      Unnamed: 0  Unnamed: 0.1              File Name Candidate  \\\n",
       "271          271         271.0    DT_tweets_102_1.txt        DT   \n",
       "272          272         272.0    DT_tweets_104_7.txt        DT   \n",
       "273          273         273.0    DT_tweets_113_9.txt        DT   \n",
       "274          274         274.0   DT_tweets_124_12.txt        DT   \n",
       "275          275         275.0    DT_tweets_124_2.txt        DT   \n",
       "...          ...           ...                    ...       ...   \n",
       "4757        4757        4757.0   DT_retweets_25_4.txt        DT   \n",
       "4758        4758        4758.0   DT_retweets_25_5.txt        DT   \n",
       "4759        4759        4759.0  DT_retweets_269_2.txt        DT   \n",
       "4760        4760        4760.0  DT_retweets_270_2.txt        DT   \n",
       "4761        4761        4761.0  DT_retweets_270_3.txt        DT   \n",
       "\n",
       "                                               Sentence  \\\n",
       "271   THANK YOU Atlanta Georgia! Leaving for Nevada ...   \n",
       "272   Thank you Michigan! #VoteTrumpMITrump 35%Kasic...   \n",
       "273   I only wish my wonderful father Fred gave me $...   \n",
       "274   Why cant the leaders of the Republican Party s...   \n",
       "275   Thank you Massachusetts! #Trump2016 #SuperTues...   \n",
       "...                                                 ...   \n",
       "4757  @CLewandowski_: Massive crowd in Pensacola Flo...   \n",
       "4758  @ameriflames: @realDonaldTrump @CLewandowski_ ...   \n",
       "4759  @angeloftruth11: Clinton says Trump is dangero...   \n",
       "4760  @Don_Vito_08: Thank You Mr. Trump for Standing...   \n",
       "4761  @sareed59: Our ineffective #POTUS has to make ...   \n",
       "\n",
       "                                    Propaganda Segments  Loaded_Language  \\\n",
       "271     Lets MAKE AMERICA SAFE AND GREAT AGAIN: Slogans              0.0   \n",
       "272                         Thank you Michigan: Slogans              0.0   \n",
       "273   wonderful father: Name_Calling,Labeling, \"tota...              0.0   \n",
       "274   Why cant the leaders of the Republican Party s...              0.0   \n",
       "275                    Thank you Massachusetts: Slogans              0.0   \n",
       "...                                                 ...              ...   \n",
       "4757                      Unbelievable: Loaded_Language              1.0   \n",
       "4758  no one wants a Bush or a Clinton they want a s...              0.0   \n",
       "4759  dangerous: Loaded_Language, \"Whos the one who ...              1.0   \n",
       "4760  Thank You Mr. Trump for Standing up for Our Co...              0.0   \n",
       "4761      Our ineffective #POTUS: Name_Calling,Labeling              0.0   \n",
       "\n",
       "      Name_Calling,Labeling  Repetition  Exaggeration,Minimisation  ...  \\\n",
       "271                     0.0         0.0                        0.0  ...   \n",
       "272                     0.0         0.0                        0.0  ...   \n",
       "273                     2.0         0.0                        0.0  ...   \n",
       "274                     0.0         0.0                        0.0  ...   \n",
       "275                     0.0         0.0                        0.0  ...   \n",
       "...                     ...         ...                        ...  ...   \n",
       "4757                    0.0         0.0                        0.0  ...   \n",
       "4758                    0.0         0.0                        1.0  ...   \n",
       "4759                    0.0         0.0                        0.0  ...   \n",
       "4760                    0.0         0.0                        0.0  ...   \n",
       "4761                    1.0         0.0                        0.0  ...   \n",
       "\n",
       "      Appeal_to_Authority  Black-and-White_Fallacy  \\\n",
       "271                   0.0                      0.0   \n",
       "272                   0.0                      0.0   \n",
       "273                   0.0                      0.0   \n",
       "274                   0.0                      0.0   \n",
       "275                   0.0                      0.0   \n",
       "...                   ...                      ...   \n",
       "4757                  0.0                      0.0   \n",
       "4758                  0.0                      0.0   \n",
       "4759                  0.0                      0.0   \n",
       "4760                  0.0                      0.0   \n",
       "4761                  0.0                      0.0   \n",
       "\n",
       "      Thought-terminating Cliches  Whataboutism,Straw_Men,Red_Herring  \\\n",
       "271                           0.0                                 0.0   \n",
       "272                           0.0                                 0.0   \n",
       "273                           0.0                                 0.0   \n",
       "274                           0.0                                 0.0   \n",
       "275                           0.0                                 0.0   \n",
       "...                           ...                                 ...   \n",
       "4757                          0.0                                 0.0   \n",
       "4758                          0.0                                 0.0   \n",
       "4759                          0.0                                 0.0   \n",
       "4760                          0.0                                 0.0   \n",
       "4761                          0.0                                 0.0   \n",
       "\n",
       "      Obfuscation,Intentional_Vagueness,Confusion  \\\n",
       "271                                           0.0   \n",
       "272                                           0.0   \n",
       "273                                           0.0   \n",
       "274                                           0.0   \n",
       "275                                           0.0   \n",
       "...                                           ...   \n",
       "4757                                          0.0   \n",
       "4758                                          0.0   \n",
       "4759                                          0.0   \n",
       "4760                                          0.0   \n",
       "4761                                          0.0   \n",
       "\n",
       "      Bandwagon,Reductio_ad_hitlerum  Num Prop  Thought-terminating_Cliches  \\\n",
       "271                              0.0       1.0                          0.0   \n",
       "272                              0.0       1.0                          0.0   \n",
       "273                              0.0       2.0                          0.0   \n",
       "274                              0.0       1.0                          0.0   \n",
       "275                              0.0       1.0                          0.0   \n",
       "...                              ...       ...                          ...   \n",
       "4757                             0.0       1.0                          0.0   \n",
       "4758                             0.0       1.0                          0.0   \n",
       "4759                             0.0       2.0                          0.0   \n",
       "4760                             0.0       1.0                          0.0   \n",
       "4761                             0.0       1.0                          0.0   \n",
       "\n",
       "      Content_Category  BCandidate  \n",
       "271              tweet           1  \n",
       "272              tweet           1  \n",
       "273              tweet           1  \n",
       "274              tweet           1  \n",
       "275              tweet           1  \n",
       "...                ...         ...  \n",
       "4757           retweet           1  \n",
       "4758           retweet           1  \n",
       "4759           retweet           1  \n",
       "4760           retweet           1  \n",
       "4761           retweet           1  \n",
       "\n",
       "[4560 rows x 25 columns]"
      ]
     },
     "execution_count": 6,
     "metadata": {},
     "output_type": "execute_result"
    }
   ],
   "source": [
    "twitter"
   ]
  },
  {
   "cell_type": "code",
   "execution_count": 7,
   "id": "14eabeaf",
   "metadata": {},
   "outputs": [
    {
     "name": "stdout",
     "output_type": "stream",
     "text": [
      "HC length:  1522\n",
      "DT length:  3038\n",
      "DT length ratio:  0.4995067412035515\n"
     ]
    }
   ],
   "source": [
    "import math\n",
    "## maybe balance the number of tweets from each?\n",
    "dfH = twitter.loc[twitter['Candidate']=='HC',:]\n",
    "print(\"HC length: \",len(dfH))\n",
    "\n",
    "dfT =twitter.loc[twitter['Candidate']=='DT',:]\n",
    "print(\"DT length: \",len(dfT))\n",
    "\n",
    "#print(.5*(len(dfT)/len(dfH))\n",
    "\n",
    "df_new = twitter\n",
    "\n",
    "#df_new = df.append(dfH)\n",
    "df_new = df_new.append(dfH)\n",
    "#df_new = df_new.append(dfH[:math.floor(len(dfH)*.33)])\n",
    "print(\"DT length ratio: \",len(dfT)/len(df_new))\n",
    "\n",
    "twitter = df_new"
   ]
  },
  {
   "cell_type": "code",
   "execution_count": 94,
   "id": "3327caef",
   "metadata": {},
   "outputs": [
    {
     "data": {
      "text/plain": [
       "0"
      ]
     },
     "execution_count": 94,
     "metadata": {},
     "output_type": "execute_result"
    }
   ],
   "source": [
    "##sum(list(twitter.loc[:,\"Num Prop\"]==0))## this confirms that there is always at least one instance of propaganda"
   ]
  },
  {
   "cell_type": "code",
   "execution_count": 8,
   "id": "42902d87",
   "metadata": {},
   "outputs": [],
   "source": [
    "from sklearn.model_selection import train_test_split\n",
    "\n",
    "X = twitter.loc[:,'Loaded_Language':'Thought-terminating_Cliches',]\n",
    "Y = twitter.loc[:,\"BCandidate\"]\n",
    "\n",
    "\n",
    "X_train, X_test, Y_train, Y_test = train_test_split(X,Y,test_size = .2,shuffle=True)"
   ]
  },
  {
   "cell_type": "code",
   "execution_count": 9,
   "id": "700e4bcc",
   "metadata": {},
   "outputs": [
    {
     "data": {
      "text/html": [
       "<div>\n",
       "<style scoped>\n",
       "    .dataframe tbody tr th:only-of-type {\n",
       "        vertical-align: middle;\n",
       "    }\n",
       "\n",
       "    .dataframe tbody tr th {\n",
       "        vertical-align: top;\n",
       "    }\n",
       "\n",
       "    .dataframe thead th {\n",
       "        text-align: right;\n",
       "    }\n",
       "</style>\n",
       "<table border=\"1\" class=\"dataframe\">\n",
       "  <thead>\n",
       "    <tr style=\"text-align: right;\">\n",
       "      <th></th>\n",
       "      <th>Loaded_Language</th>\n",
       "      <th>Name_Calling,Labeling</th>\n",
       "      <th>Repetition</th>\n",
       "      <th>Exaggeration,Minimisation</th>\n",
       "      <th>Doubt</th>\n",
       "      <th>Appeal_to_fear-prejudice</th>\n",
       "      <th>Flag-Waving</th>\n",
       "      <th>Causal_Oversimplification</th>\n",
       "      <th>Slogans</th>\n",
       "      <th>Appeal_to_Authority</th>\n",
       "      <th>Black-and-White_Fallacy</th>\n",
       "      <th>Thought-terminating Cliches</th>\n",
       "      <th>Whataboutism,Straw_Men,Red_Herring</th>\n",
       "      <th>Obfuscation,Intentional_Vagueness,Confusion</th>\n",
       "      <th>Bandwagon,Reductio_ad_hitlerum</th>\n",
       "      <th>Num Prop</th>\n",
       "      <th>Thought-terminating_Cliches</th>\n",
       "    </tr>\n",
       "  </thead>\n",
       "  <tbody>\n",
       "    <tr>\n",
       "      <th>1418</th>\n",
       "      <td>1.0</td>\n",
       "      <td>0.0</td>\n",
       "      <td>0.0</td>\n",
       "      <td>0.0</td>\n",
       "      <td>0.0</td>\n",
       "      <td>0.0</td>\n",
       "      <td>0.0</td>\n",
       "      <td>0.0</td>\n",
       "      <td>0.0</td>\n",
       "      <td>0.0</td>\n",
       "      <td>0.0</td>\n",
       "      <td>0.0</td>\n",
       "      <td>0.0</td>\n",
       "      <td>0.0</td>\n",
       "      <td>0.0</td>\n",
       "      <td>1.0</td>\n",
       "      <td>0.0</td>\n",
       "    </tr>\n",
       "    <tr>\n",
       "      <th>1197</th>\n",
       "      <td>0.0</td>\n",
       "      <td>1.0</td>\n",
       "      <td>0.0</td>\n",
       "      <td>0.0</td>\n",
       "      <td>0.0</td>\n",
       "      <td>0.0</td>\n",
       "      <td>0.0</td>\n",
       "      <td>0.0</td>\n",
       "      <td>0.0</td>\n",
       "      <td>0.0</td>\n",
       "      <td>0.0</td>\n",
       "      <td>0.0</td>\n",
       "      <td>0.0</td>\n",
       "      <td>0.0</td>\n",
       "      <td>0.0</td>\n",
       "      <td>2.0</td>\n",
       "      <td>0.0</td>\n",
       "    </tr>\n",
       "    <tr>\n",
       "      <th>3088</th>\n",
       "      <td>0.0</td>\n",
       "      <td>0.0</td>\n",
       "      <td>0.0</td>\n",
       "      <td>0.0</td>\n",
       "      <td>0.0</td>\n",
       "      <td>0.0</td>\n",
       "      <td>1.0</td>\n",
       "      <td>0.0</td>\n",
       "      <td>0.0</td>\n",
       "      <td>0.0</td>\n",
       "      <td>0.0</td>\n",
       "      <td>0.0</td>\n",
       "      <td>0.0</td>\n",
       "      <td>0.0</td>\n",
       "      <td>0.0</td>\n",
       "      <td>1.0</td>\n",
       "      <td>0.0</td>\n",
       "    </tr>\n",
       "    <tr>\n",
       "      <th>2365</th>\n",
       "      <td>0.0</td>\n",
       "      <td>0.0</td>\n",
       "      <td>0.0</td>\n",
       "      <td>0.0</td>\n",
       "      <td>0.0</td>\n",
       "      <td>0.0</td>\n",
       "      <td>1.0</td>\n",
       "      <td>0.0</td>\n",
       "      <td>0.0</td>\n",
       "      <td>0.0</td>\n",
       "      <td>0.0</td>\n",
       "      <td>0.0</td>\n",
       "      <td>0.0</td>\n",
       "      <td>0.0</td>\n",
       "      <td>0.0</td>\n",
       "      <td>2.0</td>\n",
       "      <td>0.0</td>\n",
       "    </tr>\n",
       "    <tr>\n",
       "      <th>2308</th>\n",
       "      <td>0.0</td>\n",
       "      <td>0.0</td>\n",
       "      <td>1.0</td>\n",
       "      <td>0.0</td>\n",
       "      <td>0.0</td>\n",
       "      <td>0.0</td>\n",
       "      <td>0.0</td>\n",
       "      <td>0.0</td>\n",
       "      <td>0.0</td>\n",
       "      <td>0.0</td>\n",
       "      <td>0.0</td>\n",
       "      <td>0.0</td>\n",
       "      <td>0.0</td>\n",
       "      <td>0.0</td>\n",
       "      <td>0.0</td>\n",
       "      <td>2.0</td>\n",
       "      <td>0.0</td>\n",
       "    </tr>\n",
       "    <tr>\n",
       "      <th>...</th>\n",
       "      <td>...</td>\n",
       "      <td>...</td>\n",
       "      <td>...</td>\n",
       "      <td>...</td>\n",
       "      <td>...</td>\n",
       "      <td>...</td>\n",
       "      <td>...</td>\n",
       "      <td>...</td>\n",
       "      <td>...</td>\n",
       "      <td>...</td>\n",
       "      <td>...</td>\n",
       "      <td>...</td>\n",
       "      <td>...</td>\n",
       "      <td>...</td>\n",
       "      <td>...</td>\n",
       "      <td>...</td>\n",
       "      <td>...</td>\n",
       "    </tr>\n",
       "    <tr>\n",
       "      <th>2850</th>\n",
       "      <td>0.0</td>\n",
       "      <td>0.0</td>\n",
       "      <td>0.0</td>\n",
       "      <td>0.0</td>\n",
       "      <td>0.0</td>\n",
       "      <td>0.0</td>\n",
       "      <td>0.0</td>\n",
       "      <td>0.0</td>\n",
       "      <td>1.0</td>\n",
       "      <td>0.0</td>\n",
       "      <td>0.0</td>\n",
       "      <td>0.0</td>\n",
       "      <td>0.0</td>\n",
       "      <td>0.0</td>\n",
       "      <td>0.0</td>\n",
       "      <td>1.0</td>\n",
       "      <td>0.0</td>\n",
       "    </tr>\n",
       "    <tr>\n",
       "      <th>2612</th>\n",
       "      <td>0.0</td>\n",
       "      <td>0.0</td>\n",
       "      <td>0.0</td>\n",
       "      <td>0.0</td>\n",
       "      <td>0.0</td>\n",
       "      <td>0.0</td>\n",
       "      <td>1.0</td>\n",
       "      <td>0.0</td>\n",
       "      <td>0.0</td>\n",
       "      <td>0.0</td>\n",
       "      <td>0.0</td>\n",
       "      <td>0.0</td>\n",
       "      <td>0.0</td>\n",
       "      <td>0.0</td>\n",
       "      <td>0.0</td>\n",
       "      <td>1.0</td>\n",
       "      <td>0.0</td>\n",
       "    </tr>\n",
       "    <tr>\n",
       "      <th>3145</th>\n",
       "      <td>0.0</td>\n",
       "      <td>0.0</td>\n",
       "      <td>0.0</td>\n",
       "      <td>1.0</td>\n",
       "      <td>0.0</td>\n",
       "      <td>0.0</td>\n",
       "      <td>0.0</td>\n",
       "      <td>0.0</td>\n",
       "      <td>0.0</td>\n",
       "      <td>0.0</td>\n",
       "      <td>0.0</td>\n",
       "      <td>0.0</td>\n",
       "      <td>0.0</td>\n",
       "      <td>0.0</td>\n",
       "      <td>0.0</td>\n",
       "      <td>1.0</td>\n",
       "      <td>0.0</td>\n",
       "    </tr>\n",
       "    <tr>\n",
       "      <th>2252</th>\n",
       "      <td>0.0</td>\n",
       "      <td>0.0</td>\n",
       "      <td>0.0</td>\n",
       "      <td>0.0</td>\n",
       "      <td>0.0</td>\n",
       "      <td>0.0</td>\n",
       "      <td>1.0</td>\n",
       "      <td>0.0</td>\n",
       "      <td>0.0</td>\n",
       "      <td>0.0</td>\n",
       "      <td>0.0</td>\n",
       "      <td>0.0</td>\n",
       "      <td>0.0</td>\n",
       "      <td>0.0</td>\n",
       "      <td>0.0</td>\n",
       "      <td>1.0</td>\n",
       "      <td>0.0</td>\n",
       "    </tr>\n",
       "    <tr>\n",
       "      <th>2267</th>\n",
       "      <td>0.0</td>\n",
       "      <td>0.0</td>\n",
       "      <td>0.0</td>\n",
       "      <td>0.0</td>\n",
       "      <td>0.0</td>\n",
       "      <td>0.0</td>\n",
       "      <td>0.0</td>\n",
       "      <td>0.0</td>\n",
       "      <td>1.0</td>\n",
       "      <td>0.0</td>\n",
       "      <td>0.0</td>\n",
       "      <td>0.0</td>\n",
       "      <td>0.0</td>\n",
       "      <td>0.0</td>\n",
       "      <td>0.0</td>\n",
       "      <td>1.0</td>\n",
       "      <td>0.0</td>\n",
       "    </tr>\n",
       "  </tbody>\n",
       "</table>\n",
       "<p>4865 rows × 17 columns</p>\n",
       "</div>"
      ],
      "text/plain": [
       "      Loaded_Language  Name_Calling,Labeling  Repetition  \\\n",
       "1418              1.0                    0.0         0.0   \n",
       "1197              0.0                    1.0         0.0   \n",
       "3088              0.0                    0.0         0.0   \n",
       "2365              0.0                    0.0         0.0   \n",
       "2308              0.0                    0.0         1.0   \n",
       "...               ...                    ...         ...   \n",
       "2850              0.0                    0.0         0.0   \n",
       "2612              0.0                    0.0         0.0   \n",
       "3145              0.0                    0.0         0.0   \n",
       "2252              0.0                    0.0         0.0   \n",
       "2267              0.0                    0.0         0.0   \n",
       "\n",
       "      Exaggeration,Minimisation  Doubt  Appeal_to_fear-prejudice  Flag-Waving  \\\n",
       "1418                        0.0    0.0                       0.0          0.0   \n",
       "1197                        0.0    0.0                       0.0          0.0   \n",
       "3088                        0.0    0.0                       0.0          1.0   \n",
       "2365                        0.0    0.0                       0.0          1.0   \n",
       "2308                        0.0    0.0                       0.0          0.0   \n",
       "...                         ...    ...                       ...          ...   \n",
       "2850                        0.0    0.0                       0.0          0.0   \n",
       "2612                        0.0    0.0                       0.0          1.0   \n",
       "3145                        1.0    0.0                       0.0          0.0   \n",
       "2252                        0.0    0.0                       0.0          1.0   \n",
       "2267                        0.0    0.0                       0.0          0.0   \n",
       "\n",
       "      Causal_Oversimplification  Slogans  Appeal_to_Authority  \\\n",
       "1418                        0.0      0.0                  0.0   \n",
       "1197                        0.0      0.0                  0.0   \n",
       "3088                        0.0      0.0                  0.0   \n",
       "2365                        0.0      0.0                  0.0   \n",
       "2308                        0.0      0.0                  0.0   \n",
       "...                         ...      ...                  ...   \n",
       "2850                        0.0      1.0                  0.0   \n",
       "2612                        0.0      0.0                  0.0   \n",
       "3145                        0.0      0.0                  0.0   \n",
       "2252                        0.0      0.0                  0.0   \n",
       "2267                        0.0      1.0                  0.0   \n",
       "\n",
       "      Black-and-White_Fallacy  Thought-terminating Cliches  \\\n",
       "1418                      0.0                          0.0   \n",
       "1197                      0.0                          0.0   \n",
       "3088                      0.0                          0.0   \n",
       "2365                      0.0                          0.0   \n",
       "2308                      0.0                          0.0   \n",
       "...                       ...                          ...   \n",
       "2850                      0.0                          0.0   \n",
       "2612                      0.0                          0.0   \n",
       "3145                      0.0                          0.0   \n",
       "2252                      0.0                          0.0   \n",
       "2267                      0.0                          0.0   \n",
       "\n",
       "      Whataboutism,Straw_Men,Red_Herring  \\\n",
       "1418                                 0.0   \n",
       "1197                                 0.0   \n",
       "3088                                 0.0   \n",
       "2365                                 0.0   \n",
       "2308                                 0.0   \n",
       "...                                  ...   \n",
       "2850                                 0.0   \n",
       "2612                                 0.0   \n",
       "3145                                 0.0   \n",
       "2252                                 0.0   \n",
       "2267                                 0.0   \n",
       "\n",
       "      Obfuscation,Intentional_Vagueness,Confusion  \\\n",
       "1418                                          0.0   \n",
       "1197                                          0.0   \n",
       "3088                                          0.0   \n",
       "2365                                          0.0   \n",
       "2308                                          0.0   \n",
       "...                                           ...   \n",
       "2850                                          0.0   \n",
       "2612                                          0.0   \n",
       "3145                                          0.0   \n",
       "2252                                          0.0   \n",
       "2267                                          0.0   \n",
       "\n",
       "      Bandwagon,Reductio_ad_hitlerum  Num Prop  Thought-terminating_Cliches  \n",
       "1418                             0.0       1.0                          0.0  \n",
       "1197                             0.0       2.0                          0.0  \n",
       "3088                             0.0       1.0                          0.0  \n",
       "2365                             0.0       2.0                          0.0  \n",
       "2308                             0.0       2.0                          0.0  \n",
       "...                              ...       ...                          ...  \n",
       "2850                             0.0       1.0                          0.0  \n",
       "2612                             0.0       1.0                          0.0  \n",
       "3145                             0.0       1.0                          0.0  \n",
       "2252                             0.0       1.0                          0.0  \n",
       "2267                             0.0       1.0                          0.0  \n",
       "\n",
       "[4865 rows x 17 columns]"
      ]
     },
     "execution_count": 9,
     "metadata": {},
     "output_type": "execute_result"
    }
   ],
   "source": [
    "X_train"
   ]
  },
  {
   "cell_type": "code",
   "execution_count": 10,
   "id": "f9d0ba3d",
   "metadata": {},
   "outputs": [
    {
     "name": "stdout",
     "output_type": "stream",
     "text": [
      "LogisticRegression(multi_class='ovr', solver='liblinear')\n",
      "LR\n",
      "ExtraTreesClassifier(random_state=0)\n",
      "ETC\n",
      "RandomForestClassifier(max_depth=2, random_state=0)\n",
      "RFC\n",
      "DummyRegressor(constant=0, strategy='constant')\n",
      "null0\n",
      "DummyRegressor(constant=1, strategy='constant')\n",
      "null1\n",
      "[0.6400986031224322, 0.647493837304848, 0.6253081347576006, 0.5094494658997535, 0.4905505341002465]\n",
      "[]\n",
      "[array([1, 0, 1, ..., 1, 0, 1], dtype=int64), array([1, 1, 1, ..., 1, 0, 1], dtype=int64), array([0, 1, 0, ..., 1, 0, 0], dtype=int64), array([0, 0, 0, ..., 0, 0, 0]), array([1, 1, 1, ..., 1, 1, 1])]\n"
     ]
    }
   ],
   "source": [
    "from sklearn import linear_model\n",
    "\n",
    "from sklearn.linear_model import LogisticRegression\n",
    "from sklearn.neighbors import KNeighborsClassifier\n",
    "from sklearn.svm import SVC\n",
    "from sklearn.ensemble import RandomForestClassifier\n",
    "from sklearn.ensemble import ExtraTreesClassifier\n",
    "from sklearn.datasets import make_classification\n",
    "from sklearn.dummy import DummyRegressor\n",
    "\n",
    "from sklearn.metrics import roc_curve, roc_auc_score\n",
    "from sklearn.metrics import accuracy_score\n",
    "from sklearn.metrics import ConfusionMatrixDisplay\n",
    "\n",
    "models = []\n",
    "models.append(('LR', LogisticRegression(solver='liblinear', multi_class='ovr')))\n",
    "#models.append(('SVM', SVC(gamma='auto'))) \n",
    "models.append(('ETC', ExtraTreesClassifier(n_estimators=100, random_state=0)))\n",
    "models.append(('RFC', RandomForestClassifier(max_depth= 2, random_state = 0)))  \n",
    "models.append(('null0', DummyRegressor(strategy=\"constant\", constant= 0)))\n",
    "models.append(('null1', DummyRegressor(strategy=\"constant\", constant= 1)))\n",
    "\n",
    "\n",
    "results = []\n",
    "names = []\n",
    "roc_auc= []\n",
    "fitted_mods=[]\n",
    "conf_mat= []\n",
    "predictions = []\n",
    "\n",
    "\n",
    "for name, model in models: \n",
    "    print(model)\n",
    "    print(name)\n",
    "    fitted_mods.append(model.fit(X_train, Y_train))\n",
    " \n",
    "    names.append(name)\n",
    "    \n",
    "for i in fitted_mods: \n",
    "\troc_auc.append(roc_auc_score(Y_test,i.predict(X_test)))\n",
    "\tresults.append(accuracy_score(Y_test, i.predict(X_test)))\n",
    "\n",
    "#\tconf_mat.append(confusion_matrix(Y_test, i.predict(X_test)))\n",
    " \n",
    "\tpredictions.append(i.predict(X_test))\n",
    " \n",
    "#print(roc_auc)\n",
    "print(results)\n",
    "print(conf_mat)\n",
    "print(predictions)"
   ]
  },
  {
   "cell_type": "code",
   "execution_count": 21,
   "id": "e8aa6289",
   "metadata": {},
   "outputs": [
    {
     "name": "stdout",
     "output_type": "stream",
     "text": [
      "LR accuracy: 0.6400986031224322 roc auc: 0.6404360512238612\n",
      "ETC accuracy: 0.647493837304848 roc auc: 0.649185443345761\n",
      "RFC accuracy: 0.6253081347576006 roc auc: 0.623682930782947\n",
      "null0 accuracy: 0.5094494658997535 roc auc: 0.5\n",
      "null1 accuracy: 0.4905505341002465 roc auc: 0.5\n"
     ]
    },
    {
     "data": {
      "image/png": "[encoded data removed]",
      "text/plain": [
       "<Figure size 432x288 with 2 Axes>"
      ]
     },
     "metadata": {
      "needs_background": "light"
     },
     "output_type": "display_data"
    },
    {
     "data": {
      "image/png": "[encoded data removed]",
      "text/plain": [
       "<Figure size 432x288 with 2 Axes>"
      ]
     },
     "metadata": {
      "needs_background": "light"
     },
     "output_type": "display_data"
    },
    {
     "data": {
      "image/png": "[encoded data removed]",
      "text/plain": [
       "<Figure size 432x288 with 2 Axes>"
      ]
     },
     "metadata": {
      "needs_background": "light"
     },
     "output_type": "display_data"
    },
    {
     "data": {
      "image/png": "[encoded data removed]",
      "text/plain": [
       "<Figure size 432x288 with 2 Axes>"
      ]
     },
     "metadata": {
      "needs_background": "light"
     },
     "output_type": "display_data"
    },
    {
     "data": {
      "image/png": "[encoded data removed]",
      "text/plain": [
       "<Figure size 432x288 with 2 Axes>"
      ]
     },
     "metadata": {
      "needs_background": "light"
     },
     "output_type": "display_data"
    }
   ],
   "source": [
    "## printing imporant stats\n",
    "for i in range(len(names)):\n",
    "  print(names[i],'accuracy:' , results[i], 'roc auc:',roc_auc[i])\n",
    "  cm = confusion_matrix(Y_test,predictions[i])\n",
    "  ConfusionMatrixDisplay(cm).plot()\n",
    "\n",
    "plt.show()"
   ]
  },
  {
   "cell_type": "markdown",
   "id": "e01ecf6d",
   "metadata": {},
   "source": [
    "# cross validated gridsearches:"
   ]
  },
  {
   "cell_type": "markdown",
   "id": "1548d0e8",
   "metadata": {},
   "source": [
    "## C-Support Vector Classification"
   ]
  },
  {
   "cell_type": "code",
   "execution_count": 33,
   "id": "d06d4186",
   "metadata": {},
   "outputs": [],
   "source": [
    "granularity1 = 10 ## make smaller when running on a more powerful computer"
   ]
  },
  {
   "cell_type": "code",
   "execution_count": null,
   "id": "a131e564",
   "metadata": {},
   "outputs": [],
   "source": []
  },
  {
   "cell_type": "code",
   "execution_count": 11,
   "id": "4b1cfebd",
   "metadata": {},
   "outputs": [
    {
     "data": {
      "text/plain": [
       "GridSearchCV(estimator=SVC(gamma='auto'),\n",
       "             param_grid={'C': [1, 2, 3, 4, 5, 6, 7, 8, 9, 10, 11, 12, 13, 14,\n",
       "                               15, 16, 17, 18, 19, 20, 21, 22, 23, 24, 25, 26,\n",
       "                               27, 28, 29],\n",
       "                         'kernel': ['linear', 'poly', 'rbf', 'sigmoid']})"
      ]
     },
     "execution_count": 11,
     "metadata": {},
     "output_type": "execute_result"
    }
   ],
   "source": [
    "from sklearn.model_selection import GridSearchCV\n",
    "# support vector machine\n",
    "\n",
    "SVCCV = GridSearchCV(\n",
    "SVC(gamma='auto'), param_grid = { \n",
    "    'kernel' : ['linear', 'poly', 'rbf', 'sigmoid'],\n",
    "    'C' : list(range(1,30))\n",
    "\n",
    "\n",
    "})\n",
    "\n",
    "SVCCV.fit(X_train,Y_train)"
   ]
  },
  {
   "cell_type": "code",
   "execution_count": 23,
   "id": "5525ea26",
   "metadata": {},
   "outputs": [],
   "source": [
    "filename = 'SVC_GS_twitter'\n",
    "pickle.dump(SVCCV, open(filename,'wb'))"
   ]
  },
  {
   "cell_type": "code",
   "execution_count": 24,
   "id": "a7cfbdb5",
   "metadata": {},
   "outputs": [],
   "source": [
    "##reading in trained model\n",
    "loaded_model = pickle.load(open(filename, 'rb'))\n"
   ]
  },
  {
   "cell_type": "code",
   "execution_count": 145,
   "id": "cb65285e",
   "metadata": {},
   "outputs": [
    {
     "name": "stdout",
     "output_type": "stream",
     "text": [
      "lasso_GS_twitter results on test data\n",
      "roc_auc: 0.6475104014697142\n",
      "accurarcy: 0.6458504519309778\n",
      "note 1 is Donald Trump\n"
     ]
    },
    {
     "data": {
      "text/plain": [
       "<sklearn.metrics._plot.confusion_matrix.ConfusionMatrixDisplay at 0x13f3f10ad60>"
      ]
     },
     "execution_count": 145,
     "metadata": {},
     "output_type": "execute_result"
    },
    {
     "data": {
      "image/png": "[encoded data removed]",
      "text/plain": [
       "<Figure size 432x288 with 2 Axes>"
      ]
     },
     "metadata": {
      "needs_background": "light"
     },
     "output_type": "display_data"
    }
   ],
   "source": [
    "print(filename+\" results on test data\")\n",
    "print(\"roc_auc:\",roc_auc_score(Y_test,loaded_model.predict(X_test)))\n",
    "print(\"accurarcy:\",accuracy_score(Y_test,loaded_model.predict(X_test)))\n",
    "print(\"note 1 is Donald Trump\")\n",
    "cm = confusion_matrix(Y_test,loaded_model.predict(X_test))\n",
    "ConfusionMatrixDisplay(cm).plot()\n"
   ]
  },
  {
   "cell_type": "markdown",
   "id": "0899b0ba",
   "metadata": {},
   "source": [
    "## extra trees"
   ]
  },
  {
   "cell_type": "code",
   "execution_count": 34,
   "id": "62c53fd8",
   "metadata": {},
   "outputs": [],
   "source": [
    "\n",
    "ETCV = GridSearchCV(ExtraTreesClassifier(),param_grid = {\n",
    "    'n_estimators' : list(range(1,100,granularity1)),# no real benefit from 1,100\n",
    "    'random_state' : list(range(1,100,granularity1))\n",
    "})\n",
    "\n",
    "ETCV.fit(X_train,Y_train)\n",
    "\n",
    "filename = 'extra_trees_GS_twitter'\n",
    "pickle.dump(ETCV, open(filename,'wb')) \n"
   ]
  },
  {
   "cell_type": "code",
   "execution_count": 143,
   "id": "52391972",
   "metadata": {},
   "outputs": [
    {
     "name": "stdout",
     "output_type": "stream",
     "text": [
      "lasso_GS_twitter results on test data\n",
      "roc_auc: 0.6475104014697142\n",
      "accurarcy: 0.6458504519309778\n",
      "note 1 is Donald Trump\n"
     ]
    },
    {
     "data": {
      "text/plain": [
       "<sklearn.metrics._plot.confusion_matrix.ConfusionMatrixDisplay at 0x13f3ea1daf0>"
      ]
     },
     "execution_count": 143,
     "metadata": {},
     "output_type": "execute_result"
    },
    {
     "data": {
      "image/png": "[encoded data removed]",
      "text/plain": [
       "<Figure size 432x288 with 2 Axes>"
      ]
     },
     "metadata": {
      "needs_background": "light"
     },
     "output_type": "display_data"
    }
   ],
   "source": [
    "loaded_model = pickle.load(open(filename, 'rb'))\n",
    "\n",
    "print(filename+\" results on test data\")\n",
    "print(\"roc_auc:\",roc_auc_score(Y_test,loaded_model.predict(X_test)))\n",
    "print(\"accurarcy:\",accuracy_score(Y_test,loaded_model.predict(X_test)))\n",
    "print(\"note 1 is Donald Trump\")\n",
    "cm = confusion_matrix(Y_test,loaded_model.predict(X_test))\n",
    "ConfusionMatrixDisplay(cm).plot()"
   ]
  },
  {
   "cell_type": "code",
   "execution_count": 146,
   "id": "d7f4bd50",
   "metadata": {},
   "outputs": [
    {
     "name": "stdout",
     "output_type": "stream",
     "text": [
      "roc_auc\n",
      "0     Loaded_Language0.011 +/- 0.004\n",
      "1     Name_Calling,Labeling0.014 +/- 0.005\n",
      "2     Repetition0.056 +/- 0.008\n",
      "3     Exaggeration,Minimisation0.001 +/- 0.000\n",
      "4     Doubt   0.008 +/- 0.003\n",
      "5     Appeal_to_fear-prejudice0.024 +/- 0.006\n",
      "6     Flag-Waving0.032 +/- 0.006\n",
      "7     Causal_Oversimplification0.001 +/- 0.001\n",
      "8     Slogans 0.009 +/- 0.002\n",
      "9     Appeal_to_Authority0.004 +/- 0.003\n",
      "10     Black-and-White_Fallacy0.001 +/- 0.003\n",
      "11     Thought-terminating Cliches0.000 +/- 0.000\n",
      "12     Whataboutism,Straw_Men,Red_Herring0.004 +/- 0.003\n",
      "13     Obfuscation,Intentional_Vagueness,Confusion0.000 +/- 0.000\n",
      "14     Bandwagon,Reductio_ad_hitlerum-0.001 +/- 0.001\n",
      "15     Num Prop0.034 +/- 0.008\n",
      "16     Thought-terminating_Cliches0.002 +/- 0.001\n",
      "accuracy\n",
      "0     Loaded_Language0.014 +/- 0.005\n",
      "1     Name_Calling,Labeling0.006 +/- 0.004\n",
      "2     Repetition0.039 +/- 0.004\n",
      "3     Exaggeration,Minimisation0.002 +/- 0.000\n",
      "4     Doubt   0.006 +/- 0.004\n",
      "5     Appeal_to_fear-prejudice0.013 +/- 0.004\n",
      "6     Flag-Waving0.022 +/- 0.005\n",
      "7     Causal_Oversimplification0.001 +/- 0.002\n",
      "8     Slogans 0.010 +/- 0.003\n",
      "9     Appeal_to_Authority0.003 +/- 0.003\n",
      "10     Black-and-White_Fallacy0.001 +/- 0.003\n",
      "11     Thought-terminating Cliches0.000 +/- 0.000\n",
      "12     Whataboutism,Straw_Men,Red_Herring0.001 +/- 0.002\n",
      "13     Obfuscation,Intentional_Vagueness,Confusion0.000 +/- 0.000\n",
      "14     Bandwagon,Reductio_ad_hitlerum-0.000 +/- 0.001\n",
      "15     Num Prop0.022 +/- 0.007\n",
      "16     Thought-terminating_Cliches0.001 +/- 0.001\n"
     ]
    }
   ],
   "source": [
    "scoring = ['roc_auc', 'accuracy']#\n",
    "r_multi = permutation_importance(\n",
    "    ETCV, X_test, Y_test, n_repeats=30, random_state=0, scoring=scoring)\n",
    "\n",
    "features= list(twitter.columns)[6:-2]\n",
    "roc_auc_importance = []\n",
    "roc_auc_std = []\n",
    "acc_importance =[]\n",
    "acc_std=[]\n",
    "for metric in r_multi:\n",
    "    print(f\"{metric}\")\n",
    "    r = r_multi[metric]\n",
    "    for i in range(len(features)):\n",
    "        #if r.importances_mean[i] - 2 * r.importances_std[i] > 0: ## do we want to know this?\n",
    "        print(i,f\"    {list(twitter.columns)[6:-2][i]:<8}\"\n",
    "              f\"{r.importances_mean[i]:.3f}\"\n",
    "              f\" +/- {r.importances_std[i]:.3f}\")\n",
    "        if metric == 'roc_auc':\n",
    "            roc_auc_importance.append(r.importances_mean[i])\n",
    "            roc_auc_std.append(r.importances_std[i])\n",
    "        if metric == 'accuracy': \n",
    "            acc_importance.append(r.importances_mean[i])\n",
    "            acc_std.append(r.importances_std[i])"
   ]
  },
  {
   "cell_type": "code",
   "execution_count": 147,
   "id": "4ab0ee65",
   "metadata": {},
   "outputs": [
    {
     "data": {
      "image/png": "[encoded data removed]",
      "text/plain": [
       "<Figure size 1080x288 with 2 Axes>"
      ]
     },
     "metadata": {
      "needs_background": "light"
     },
     "output_type": "display_data"
    }
   ],
   "source": [
    "\n",
    "plt.figure(figsize=(15, 4))# this adjusts how far away the plots are from eachother\n",
    "\n",
    "ax = plt.subplot(121)\n",
    "ax.bar(features,acc_importance)\n",
    "plt.xticks(rotation = 'vertical')\n",
    "ax.set_title(\"Feature importance of Random Forest based on accuracy\")\n",
    "ax.set_ylabel(\"permutation importance\")\n",
    "\n",
    "ax = plt.subplot(122)## this is to put them next to each other and needs to be 1 integer greater\n",
    "ax.bar(features,roc_auc_importance)\n",
    "plt.xticks(rotation = 'vertical')\n",
    "ax.set_title(\"Feature importance of Random Forest based on roc_auc\")\n",
    "ax.set_ylabel(\"permutation importance\")\n",
    "plt.show()"
   ]
  },
  {
   "cell_type": "markdown",
   "id": "529c32f2",
   "metadata": {},
   "source": [
    "## random forest"
   ]
  },
  {
   "cell_type": "code",
   "execution_count": 35,
   "id": "bca6e8fc",
   "metadata": {},
   "outputs": [],
   "source": [
    "RFCV = GridSearchCV(RandomForestClassifier(), param_grid={ \n",
    "    'n_estimators' : list(range(1,100,granularity1)),\n",
    "    'max_depth': list(range(2,100,granularity1)),\n",
    "    'random_state': list(range(10,100,granularity1))\n",
    "\n",
    "})\n",
    "RFCV.fit(X_train,Y_train)\n",
    "\n",
    "filename = 'RFCV_GS_twitter'\n",
    "pickle.dump(RFCV, open(filename,'wb'))\n"
   ]
  },
  {
   "cell_type": "code",
   "execution_count": 144,
   "id": "d65f25b7",
   "metadata": {
    "scrolled": true
   },
   "outputs": [
    {
     "name": "stdout",
     "output_type": "stream",
     "text": [
      "lasso_GS_twitter results on test data\n",
      "roc_auc: 0.6475104014697142\n",
      "accurarcy: 0.6458504519309778\n",
      "note 1 is Donald Trump\n"
     ]
    },
    {
     "data": {
      "text/plain": [
       "<sklearn.metrics._plot.confusion_matrix.ConfusionMatrixDisplay at 0x13f3f86d1f0>"
      ]
     },
     "execution_count": 144,
     "metadata": {},
     "output_type": "execute_result"
    },
    {
     "data": {
      "image/png": "[encoded data removed]",
      "text/plain": [
       "<Figure size 432x288 with 2 Axes>"
      ]
     },
     "metadata": {
      "needs_background": "light"
     },
     "output_type": "display_data"
    }
   ],
   "source": [
    "loaded_model = pickle.load(open(filename, 'rb'))\n",
    "\n",
    "print(filename+\" results on test data\")\n",
    "print(\"roc_auc:\",roc_auc_score(Y_test,loaded_model.predict(X_test)))\n",
    "print(\"accurarcy:\",accuracy_score(Y_test,loaded_model.predict(X_test)))\n",
    "print(\"note 1 is Donald Trump\")\n",
    "cm = confusion_matrix(Y_test,loaded_model.predict(X_test))\n",
    "ConfusionMatrixDisplay(cm).plot()"
   ]
  },
  {
   "cell_type": "code",
   "execution_count": 114,
   "id": "f4bd1e18",
   "metadata": {
    "scrolled": true
   },
   "outputs": [
    {
     "name": "stdout",
     "output_type": "stream",
     "text": [
      "roc_auc\n",
      "0     Loaded_Language-0.000 +/- 0.002\n",
      "1     Name_Calling,Labeling0.002 +/- 0.004\n",
      "2     Repetition0.050 +/- 0.008\n",
      "3     Exaggeration,Minimisation0.004 +/- 0.002\n",
      "4     Doubt   -0.000 +/- 0.001\n",
      "5     Appeal_to_fear-prejudice0.022 +/- 0.005\n",
      "6     Flag-Waving0.031 +/- 0.006\n",
      "7     Causal_Oversimplification0.001 +/- 0.001\n",
      "8     Slogans 0.002 +/- 0.002\n",
      "9     Appeal_to_Authority0.003 +/- 0.001\n",
      "10     Black-and-White_Fallacy0.003 +/- 0.003\n",
      "11     Thought-terminating Cliches0.000 +/- 0.000\n",
      "12     Whataboutism,Straw_Men,Red_Herring0.004 +/- 0.002\n",
      "13     Obfuscation,Intentional_Vagueness,Confusion0.000 +/- 0.000\n",
      "14     Bandwagon,Reductio_ad_hitlerum-0.001 +/- 0.001\n",
      "15     Num Prop0.039 +/- 0.009\n",
      "16     Thought-terminating_Cliches0.001 +/- 0.001\n",
      "accuracy\n",
      "0     Loaded_Language0.006 +/- 0.005\n",
      "1     Name_Calling,Labeling0.002 +/- 0.004\n",
      "2     Repetition0.040 +/- 0.004\n",
      "3     Exaggeration,Minimisation0.002 +/- 0.004\n",
      "4     Doubt   -0.000 +/- 0.000\n",
      "5     Appeal_to_fear-prejudice0.013 +/- 0.004\n",
      "6     Flag-Waving0.017 +/- 0.006\n",
      "7     Causal_Oversimplification0.001 +/- 0.002\n",
      "8     Slogans 0.008 +/- 0.003\n",
      "9     Appeal_to_Authority0.002 +/- 0.002\n",
      "10     Black-and-White_Fallacy0.002 +/- 0.003\n",
      "11     Thought-terminating Cliches0.000 +/- 0.000\n",
      "12     Whataboutism,Straw_Men,Red_Herring0.001 +/- 0.002\n",
      "13     Obfuscation,Intentional_Vagueness,Confusion0.000 +/- 0.000\n",
      "14     Bandwagon,Reductio_ad_hitlerum0.000 +/- 0.001\n",
      "15     Num Prop0.019 +/- 0.006\n",
      "16     Thought-terminating_Cliches0.000 +/- 0.002\n"
     ]
    }
   ],
   "source": [
    "## source: https://scikit-learn.org/stable/modules/permutation_importance.html#permutation-importance\n",
    "\n",
    "\n",
    "\n",
    "scoring = ['roc_auc', 'accuracy']#\n",
    "r_multi = permutation_importance(\n",
    "    RFCV, X_test, Y_test, n_repeats=30, random_state=0, scoring=scoring)\n",
    "\n",
    "features= list(twitter.columns)[6:-2]\n",
    "roc_auc_importance = []\n",
    "roc_auc_std = []\n",
    "acc_importance =[]\n",
    "acc_std=[]\n",
    "for metric in r_multi:\n",
    "    print(f\"{metric}\")\n",
    "    r = r_multi[metric]\n",
    "    for i in range(len(features)):\n",
    "        #if r.importances_mean[i] - 2 * r.importances_std[i] > 0: ## do we want to know this?\n",
    "        print(i,f\"    {list(twitter.columns)[6:-2][i]:<8}\"\n",
    "              f\"{r.importances_mean[i]:.3f}\"\n",
    "              f\" +/- {r.importances_std[i]:.3f}\")\n",
    "        if metric == 'roc_auc':\n",
    "            roc_auc_importance.append(r.importances_mean[i])\n",
    "            roc_auc_std.append(r.importances_std[i])\n",
    "        if metric == 'accuracy': \n",
    "            acc_importance.append(r.importances_mean[i])\n",
    "            acc_std.append(r.importances_std[i])"
   ]
  },
  {
   "cell_type": "code",
   "execution_count": null,
   "id": "2345580e",
   "metadata": {},
   "outputs": [],
   "source": []
  },
  {
   "cell_type": "code",
   "execution_count": null,
   "id": "33fd4a7f",
   "metadata": {},
   "outputs": [],
   "source": []
  },
  {
   "cell_type": "code",
   "execution_count": 139,
   "id": "6d4496a0",
   "metadata": {},
   "outputs": [
    {
     "data": {
      "image/png": "[encoded data removed]",
      "text/plain": [
       "<Figure size 1080x288 with 2 Axes>"
      ]
     },
     "metadata": {
      "needs_background": "light"
     },
     "output_type": "display_data"
    }
   ],
   "source": [
    "\n",
    "plt.figure(figsize=(15, 4))# this adjusts how far away the plots are from eachother\n",
    "\n",
    "ax = plt.subplot(121)\n",
    "ax.bar(features,acc_importance)\n",
    "plt.xticks(rotation = 'vertical')\n",
    "ax.set_title(\"Feature importance of Random Forest based on accuracy\")\n",
    "ax.set_ylabel(\"permutation importance\")\n",
    "\n",
    "ax = plt.subplot(122)## this is to put them next to each other and needs to be 1 integer greater\n",
    "ax.bar(features,roc_auc_importance)\n",
    "plt.xticks(rotation = 'vertical')\n",
    "ax.set_title(\"Feature importance of Random Forest based on roc_auc\")\n",
    "ax.set_ylabel(\"permutation importance\")\n",
    "plt.show()\n"
   ]
  },
  {
   "cell_type": "code",
   "execution_count": null,
   "id": "4496ee50",
   "metadata": {},
   "outputs": [],
   "source": []
  },
  {
   "cell_type": "code",
   "execution_count": null,
   "id": "f4c7add8",
   "metadata": {},
   "outputs": [],
   "source": []
  },
  {
   "cell_type": "markdown",
   "id": "95c19876",
   "metadata": {},
   "source": [
    "## lasso"
   ]
  },
  {
   "cell_type": "code",
   "execution_count": 37,
   "id": "aab1011b",
   "metadata": {},
   "outputs": [],
   "source": [
    "LOCV = GridSearchCV( linear_model.Lasso(), param_grid={ \n",
    "    'alpha' : list(np.arange (.1, 50, .1))\n",
    "\n",
    "})\n",
    "LOCV.fit(X_train,Y_train)\n",
    "\n",
    "filename = 'lasso_GS_twitter'\n",
    "pickle.dump(LOCV, open(filename,'wb')) "
   ]
  },
  {
   "cell_type": "code",
   "execution_count": 148,
   "id": "13653a07",
   "metadata": {},
   "outputs": [
    {
     "name": "stdout",
     "output_type": "stream",
     "text": [
      "lasso_GS_twitter results on test data\n",
      "roc_auc: 0.6475104014697142\n",
      "accurarcy: 0.6458504519309778\n",
      "note 1 is Donald Trump\n"
     ]
    },
    {
     "data": {
      "text/plain": [
       "<sklearn.metrics._plot.confusion_matrix.ConfusionMatrixDisplay at 0x13f3f19bac0>"
      ]
     },
     "execution_count": 148,
     "metadata": {},
     "output_type": "execute_result"
    },
    {
     "data": {
      "image/png": "[encoded data removed]",
      "text/plain": [
       "<Figure size 432x288 with 2 Axes>"
      ]
     },
     "metadata": {
      "needs_background": "light"
     },
     "output_type": "display_data"
    }
   ],
   "source": [
    "loaded_model = pickle.load(open(filename, 'rb'))\n",
    "\n",
    "print(filename+\" results on test data\")\n",
    "print(\"roc_auc:\",roc_auc_score(Y_test,loaded_model.predict(X_test)))\n",
    "print(\"accurarcy:\",accuracy_score(Y_test,loaded_model.predict(X_test)))\n",
    "print(\"note 1 is Donald Trump\")\n",
    "cm = confusion_matrix(Y_test,loaded_model.predict(X_test))\n",
    "ConfusionMatrixDisplay(cm).plot()"
   ]
  },
  {
   "cell_type": "code",
   "execution_count": 156,
   "id": "9cef9b37",
   "metadata": {},
   "outputs": [
    {
     "name": "stdout",
     "output_type": "stream",
     "text": [
      "roc_auc\n",
      "0     Loaded_Language0.000 +/- 0.000\n",
      "1     Name_Calling,Labeling0.000 +/- 0.000\n",
      "2     Repetition0.000 +/- 0.000\n",
      "3     Exaggeration,Minimisation0.000 +/- 0.000\n",
      "4     Doubt   0.000 +/- 0.000\n",
      "5     Appeal_to_fear-prejudice0.000 +/- 0.000\n",
      "6     Flag-Waving0.000 +/- 0.000\n",
      "7     Causal_Oversimplification0.000 +/- 0.000\n",
      "8     Slogans 0.000 +/- 0.000\n",
      "9     Appeal_to_Authority0.000 +/- 0.000\n",
      "10     Black-and-White_Fallacy0.000 +/- 0.000\n",
      "11     Thought-terminating Cliches0.000 +/- 0.000\n",
      "12     Whataboutism,Straw_Men,Red_Herring0.000 +/- 0.000\n",
      "13     Obfuscation,Intentional_Vagueness,Confusion0.000 +/- 0.000\n",
      "14     Bandwagon,Reductio_ad_hitlerum0.000 +/- 0.000\n",
      "15     Num Prop0.000 +/- 0.000\n",
      "16     Thought-terminating_Cliches0.000 +/- 0.000\n"
     ]
    }
   ],
   "source": [
    "## no feature importance?\n",
    "## everything is 0 when computed "
   ]
  },
  {
   "cell_type": "markdown",
   "id": "7e985cde",
   "metadata": {},
   "source": [
    "## neural net- may need to adjust parameters"
   ]
  },
  {
   "cell_type": "code",
   "execution_count": null,
   "id": "e04991da",
   "metadata": {},
   "outputs": [],
   "source": [
    "NNCV = GridSearchCV( MLPClassifier(max_iter=10000), param_grid={ \n",
    "    'solver' : ['lbfgs', 'sgd', 'adam'],\n",
    "    'alpha' : [1e-5,1e-4,1e-3,1e-2],\n",
    "    'activation': ['tanh', 'relu'],\n",
    "    'learning_rate': ['constant','adaptive'],\n",
    "\n",
    "})\n",
    "NNCV.fit(X_train,Y_train)\n",
    "\n",
    "filename = 'NNCV_GS_twitter'\n",
    "pickle.dump(NNCV, open(filename,'wb'))"
   ]
  },
  {
   "cell_type": "code",
   "execution_count": 160,
   "id": "83d843c9",
   "metadata": {},
   "outputs": [
    {
     "name": "stdout",
     "output_type": "stream",
     "text": [
      "lasso_GS_twitter results on test data\n",
      "roc_auc: 0.6475104014697142\n",
      "accurarcy: 0.6458504519309778\n",
      "note 1 is Donald Trump\n"
     ]
    },
    {
     "data": {
      "text/plain": [
       "<sklearn.metrics._plot.confusion_matrix.ConfusionMatrixDisplay at 0x13f3f876f70>"
      ]
     },
     "execution_count": 160,
     "metadata": {},
     "output_type": "execute_result"
    },
    {
     "data": {
      "image/png": "[encoded data removed]",
      "text/plain": [
       "<Figure size 432x288 with 2 Axes>"
      ]
     },
     "metadata": {
      "needs_background": "light"
     },
     "output_type": "display_data"
    }
   ],
   "source": [
    "loaded_model = pickle.load(open(filename, 'rb'))\n",
    "\n",
    "print(filename+\" results on test data\")\n",
    "print(\"roc_auc:\",roc_auc_score(Y_test,loaded_model.predict(X_test)))\n",
    "print(\"accurarcy:\",accuracy_score(Y_test,loaded_model.predict(X_test)))\n",
    "print(\"note 1 is Donald Trump\")\n",
    "cm = confusion_matrix(Y_test,loaded_model.predict(X_test))\n",
    "ConfusionMatrixDisplay(cm).plot()"
   ]
  }
 ],
 "metadata": {
  "kernelspec": {
   "display_name": "Python 3 (ipykernel)",
   "language": "python",
   "name": "python3"
  },
  "language_info": {
   "codemirror_mode": {
    "name": "ipython",
    "version": 3
   },
   "file_extension": ".py",
   "mimetype": "text/x-python",
   "name": "python",
   "nbconvert_exporter": "python",
   "pygments_lexer": "ipython3",
   "version": "3.9.7"
  }
 },
 "nbformat": 4,
 "nbformat_minor": 5
}
