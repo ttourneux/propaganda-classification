{
 "cells": [
  {
   "cell_type": "code",
   "execution_count": 1,
   "id": "e31dfc8f",
   "metadata": {},
   "outputs": [],
   "source": [
    "!python datasets.py"
   ]
  },
  {
   "cell_type": "code",
   "execution_count": 2,
   "id": "f6e05915",
   "metadata": {},
   "outputs": [],
   "source": [
    "import math\n",
    "import numpy as np\n",
    "import scipy\n",
    "import pandas as pd\n",
    "import matplotlib as mpl\n",
    "import matplotlib.pyplot as plt\n",
    "import sklearn as skl\n",
    "import io\n",
    "import pickle\n",
    "\n",
    "from pandas import read_csv\n",
    "from pandas.plotting import scatter_matrix\n",
    "from matplotlib import pyplot\n",
    "from sklearn.model_selection import train_test_split\n",
    "from sklearn.model_selection import cross_val_score\n",
    "from sklearn.model_selection import StratifiedKFold\n",
    "from sklearn.metrics import classification_report\n",
    "from sklearn.metrics import confusion_matrix\n",
    "from sklearn.metrics import accuracy_score\n",
    "from sklearn.linear_model import LogisticRegression\n",
    "from sklearn.tree import DecisionTreeClassifier\n",
    "from sklearn.neighbors import KNeighborsClassifier\n",
    "from sklearn.discriminant_analysis import LinearDiscriminantAnalysis\n",
    "from sklearn.naive_bayes import GaussianNB\n",
    "from sklearn.svm import SVC\n",
    "\n",
    "from sklearn.ensemble import RandomForestClassifier\n",
    "from sklearn.datasets import make_classification\n",
    "from sklearn.ensemble import ExtraTreesClassifier\n",
    "from sklearn.datasets import make_classification\n",
    "from sklearn.dummy import DummyRegressor\n",
    "\n",
    "from sklearn.linear_model import Lasso\n",
    "from sklearn.neural_network import MLPClassifier\n",
    "\n",
    "from sklearn.metrics import roc_curve, roc_auc_score\n",
    "from sklearn.metrics import accuracy_score\n",
    "from sklearn.metrics import ConfusionMatrixDisplay\n",
    "from sklearn.inspection import permutation_importance"
   ]
  },
  {
   "cell_type": "code",
   "execution_count": 3,
   "id": "0cb92c2c",
   "metadata": {},
   "outputs": [],
   "source": [
    "\n",
    "\n",
    "import datasets\n",
    "\n",
    "DS = datasets.Datasets()\n",
    "\n"
   ]
  },
  {
   "cell_type": "code",
   "execution_count": 4,
   "id": "3b0e6100",
   "metadata": {
    "scrolled": true
   },
   "outputs": [],
   "source": [
    "nonTwitterDf = DS.non_twitter_df"
   ]
  },
  {
   "cell_type": "code",
   "execution_count": 5,
   "id": "4fbdea8e",
   "metadata": {},
   "outputs": [
    {
     "name": "stdout",
     "output_type": "stream",
     "text": [
      "HC length:  1352\n",
      "DT length:  2509\n",
      "DT length ratio:  0.48129675810473815\n"
     ]
    }
   ],
   "source": [
    "import math\n",
    "## maybe balance the number of tweets from each?\n",
    "dfH = nonTwitterDf.loc[nonTwitterDf['Candidate']=='HC',:]\n",
    "print(\"HC length: \",len(dfH))\n",
    "\n",
    "dfT =nonTwitterDf.loc[nonTwitterDf['Candidate']=='DT',:]\n",
    "print(\"DT length: \",len(dfT))\n",
    "\n",
    "#print(.5*(len(dfT)/len(dfH))\n",
    "\n",
    "df_new = nonTwitterDf\n",
    "\n",
    "#df_new = df.append(dfH)\n",
    "df_new = df_new.append(dfH)\n",
    "#df_new = df_new.append(dfH[:math.floor(len(dfH)*.33)])\n",
    "print(\"DT length ratio: \",len(dfT)/len(df_new))\n",
    "\n",
    "nonTwitterDf = df_new"
   ]
  },
  {
   "cell_type": "code",
   "execution_count": 94,
   "id": "aaa0b5f2",
   "metadata": {},
   "outputs": [
    {
     "data": {
      "text/plain": [
       "0"
      ]
     },
     "execution_count": 94,
     "metadata": {},
     "output_type": "execute_result"
    }
   ],
   "source": [
    "##sum(list(twitter.loc[:,\"Num Prop\"]==0))## this confirms that there is always at least one instance of propaganda"
   ]
  },
  {
   "cell_type": "code",
   "execution_count": 6,
   "id": "519aaf0d",
   "metadata": {},
   "outputs": [],
   "source": [
    "from sklearn.model_selection import train_test_split\n",
    "\n",
    "X = nonTwitterDf.loc[:,'Loaded_Language':'Thought-terminating_Cliches',]\n",
    "Y = nonTwitterDf.loc[:,\"BCandidate\"]\n",
    "\n",
    "\n",
    "X_train, X_test, Y_train, Y_test = train_test_split(X,Y,test_size = .2,shuffle=True)"
   ]
  },
  {
   "cell_type": "code",
   "execution_count": 10,
   "id": "753135d4",
   "metadata": {},
   "outputs": [
    {
     "name": "stdout",
     "output_type": "stream",
     "text": [
      "LogisticRegression(multi_class='ovr', solver='liblinear')\n",
      "LR\n",
      "ExtraTreesClassifier(random_state=0)\n",
      "ETC\n",
      "RandomForestClassifier(max_depth=2, random_state=0)\n",
      "RFC\n",
      "DummyRegressor(constant=0, strategy='constant')\n",
      "null0\n",
      "DummyRegressor(constant=1, strategy='constant')\n",
      "null1\n",
      "[0.6400986031224322, 0.647493837304848, 0.6253081347576006, 0.5094494658997535, 0.4905505341002465]\n",
      "[]\n",
      "[array([1, 0, 1, ..., 1, 0, 1], dtype=int64), array([1, 1, 1, ..., 1, 0, 1], dtype=int64), array([0, 1, 0, ..., 1, 0, 0], dtype=int64), array([0, 0, 0, ..., 0, 0, 0]), array([1, 1, 1, ..., 1, 1, 1])]\n"
     ]
    }
   ],
   "source": [
    "from sklearn import linear_model\n",
    "\n",
    "from sklearn.linear_model import LogisticRegression\n",
    "from sklearn.neighbors import KNeighborsClassifier\n",
    "from sklearn.svm import SVC\n",
    "from sklearn.ensemble import RandomForestClassifier\n",
    "from sklearn.ensemble import ExtraTreesClassifier\n",
    "from sklearn.datasets import make_classification\n",
    "from sklearn.dummy import DummyRegressor\n",
    "\n",
    "from sklearn.metrics import roc_curve, roc_auc_score\n",
    "from sklearn.metrics import accuracy_score\n",
    "from sklearn.metrics import ConfusionMatrixDisplay\n",
    "\n",
    "models = []\n",
    "models.append(('LR', LogisticRegression(solver='liblinear', multi_class='ovr')))\n",
    "#models.append(('SVM', SVC(gamma='auto'))) \n",
    "models.append(('ETC', ExtraTreesClassifier(n_estimators=100, random_state=0)))\n",
    "models.append(('RFC', RandomForestClassifier(max_depth= 2, random_state = 0)))  \n",
    "models.append(('null0', DummyRegressor(strategy=\"constant\", constant= 0)))\n",
    "models.append(('null1', DummyRegressor(strategy=\"constant\", constant= 1)))\n",
    "\n",
    "\n",
    "results = []\n",
    "names = []\n",
    "roc_auc= []\n",
    "fitted_mods=[]\n",
    "conf_mat= []\n",
    "predictions = []\n",
    "\n",
    "\n",
    "for name, model in models: \n",
    "    print(model)\n",
    "    print(name)\n",
    "    fitted_mods.append(model.fit(X_train, Y_train))\n",
    " \n",
    "    names.append(name)\n",
    "    \n",
    "for i in fitted_mods: \n",
    "\troc_auc.append(roc_auc_score(Y_test,i.predict(X_test)))\n",
    "\tresults.append(accuracy_score(Y_test, i.predict(X_test)))\n",
    "\n",
    "#\tconf_mat.append(confusion_matrix(Y_test, i.predict(X_test)))\n",
    " \n",
    "\tpredictions.append(i.predict(X_test))\n",
    " \n",
    "#print(roc_auc)\n",
    "print(results)\n",
    "print(conf_mat)\n",
    "print(predictions)"
   ]
  },
  {
   "cell_type": "code",
   "execution_count": 21,
   "id": "ec275482",
   "metadata": {},
   "outputs": [
    {
     "name": "stdout",
     "output_type": "stream",
     "text": [
      "LR accuracy: 0.6400986031224322 roc auc: 0.6404360512238612\n",
      "ETC accuracy: 0.647493837304848 roc auc: 0.649185443345761\n",
      "RFC accuracy: 0.6253081347576006 roc auc: 0.623682930782947\n",
      "null0 accuracy: 0.5094494658997535 roc auc: 0.5\n",
      "null1 accuracy: 0.4905505341002465 roc auc: 0.5\n"
     ]
    },
    {
     "data": {
      "image/png": "[encoded data removed]",
      "text/plain": [
       "<Figure size 432x288 with 2 Axes>"
      ]
     },
     "metadata": {
      "needs_background": "light"
     },
     "output_type": "display_data"
    },
    {
     "data": {
      "image/png": "[encoded data removed]",
      "text/plain": [
       "<Figure size 432x288 with 2 Axes>"
      ]
     },
     "metadata": {
      "needs_background": "light"
     },
     "output_type": "display_data"
    },
    {
     "data": {
      "image/png": "[encoded data removed]",
      "text/plain": [
       "<Figure size 432x288 with 2 Axes>"
      ]
     },
     "metadata": {
      "needs_background": "light"
     },
     "output_type": "display_data"
    },
    {
     "data": {
      "image/png": "[encoded data removed]",
      "text/plain": [
       "<Figure size 432x288 with 2 Axes>"
      ]
     },
     "metadata": {
      "needs_background": "light"
     },
     "output_type": "display_data"
    },
    {
     "data": {
      "image/png": "[encoded data removed]",
      "text/plain": [
       "<Figure size 432x288 with 2 Axes>"
      ]
     },
     "metadata": {
      "needs_background": "light"
     },
     "output_type": "display_data"
    }
   ],
   "source": [
    "## printing imporant stats\n",
    "for i in range(len(names)):\n",
    "  print(names[i],'accuracy:' , results[i], 'roc auc:',roc_auc[i])\n",
    "  cm = confusion_matrix(Y_test,predictions[i])\n",
    "  ConfusionMatrixDisplay(cm).plot()\n",
    "\n",
    "plt.show()"
   ]
  },
  {
   "cell_type": "markdown",
   "id": "92c6e595",
   "metadata": {},
   "source": [
    "# cross validated gridsearches:"
   ]
  },
  {
   "cell_type": "markdown",
   "id": "909c5968",
   "metadata": {},
   "source": [
    "## C-Support Vector Classification"
   ]
  },
  {
   "cell_type": "code",
   "execution_count": 7,
   "id": "5a07dac3",
   "metadata": {},
   "outputs": [],
   "source": [
    "granularity1 = 10 ## make smaller when running on a more powerful computer"
   ]
  },
  {
   "cell_type": "code",
   "execution_count": null,
   "id": "1cedbb15",
   "metadata": {},
   "outputs": [],
   "source": []
  },
  {
   "cell_type": "code",
   "execution_count": 8,
   "id": "44596590",
   "metadata": {},
   "outputs": [
    {
     "data": {
      "text/plain": [
       "GridSearchCV(estimator=SVC(gamma='auto'),\n",
       "             param_grid={'C': [1, 2, 3, 4, 5, 6, 7, 8, 9, 10, 11, 12, 13, 14,\n",
       "                               15, 16, 17, 18, 19, 20, 21, 22, 23, 24, 25, 26,\n",
       "                               27, 28, 29],\n",
       "                         'kernel': ['linear', 'poly', 'rbf', 'sigmoid']})"
      ]
     },
     "execution_count": 8,
     "metadata": {},
     "output_type": "execute_result"
    }
   ],
   "source": [
    "from sklearn.model_selection import GridSearchCV\n",
    "# support vector machine\n",
    "\n",
    "SVCCV = GridSearchCV(\n",
    "SVC(gamma='auto'), param_grid = { \n",
    "    'kernel' : ['linear', 'poly', 'rbf', 'sigmoid'],\n",
    "    'C' : list(range(1,30))\n",
    "\n",
    "\n",
    "})\n",
    "\n",
    "SVCCV.fit(X_train,Y_train)"
   ]
  },
  {
   "cell_type": "code",
   "execution_count": 9,
   "id": "81bcc6ce",
   "metadata": {},
   "outputs": [],
   "source": [
    "filename = 'SVC_GS_nontwitter'\n",
    "pickle.dump(SVCCV, open(filename,'wb'))"
   ]
  },
  {
   "cell_type": "code",
   "execution_count": 10,
   "id": "f7d5d670",
   "metadata": {},
   "outputs": [],
   "source": [
    "##reading in trained model\n",
    "loaded_model = pickle.load(open(filename, 'rb'))\n"
   ]
  },
  {
   "cell_type": "code",
   "execution_count": 11,
   "id": "0413bd9e",
   "metadata": {},
   "outputs": [
    {
     "name": "stdout",
     "output_type": "stream",
     "text": [
      "SVC_GS_twitter results on test data\n",
      "roc_auc: 0.539344262295082\n",
      "accurarcy: 0.5560882070949185\n",
      "note 1 is Donald Trump\n"
     ]
    },
    {
     "data": {
      "text/plain": [
       "<sklearn.metrics._plot.confusion_matrix.ConfusionMatrixDisplay at 0x2876358c7c0>"
      ]
     },
     "execution_count": 11,
     "metadata": {},
     "output_type": "execute_result"
    },
    {
     "data": {
      "image/png": "[encoded data removed]",
      "text/plain": [
       "<Figure size 432x288 with 2 Axes>"
      ]
     },
     "metadata": {
      "needs_background": "light"
     },
     "output_type": "display_data"
    }
   ],
   "source": [
    "print(filename+\" results on test data\")\n",
    "print(\"roc_auc:\",roc_auc_score(Y_test,loaded_model.predict(X_test)))\n",
    "print(\"accurarcy:\",accuracy_score(Y_test,loaded_model.predict(X_test)))\n",
    "print(\"note 1 is Donald Trump\")\n",
    "cm = confusion_matrix(Y_test,loaded_model.predict(X_test))\n",
    "ConfusionMatrixDisplay(cm).plot()\n"
   ]
  },
  {
   "cell_type": "markdown",
   "id": "6a9372d9",
   "metadata": {},
   "source": [
    "## extra trees"
   ]
  },
  {
   "cell_type": "code",
   "execution_count": 12,
   "id": "62c53fd8",
   "metadata": {},
   "outputs": [],
   "source": [
    "\n",
    "ETCV = GridSearchCV(ExtraTreesClassifier(),param_grid = {\n",
    "    'n_estimators' : list(range(1,100,granularity1)),# no real benefit from 1,100\n",
    "    'random_state' : list(range(1,100,granularity1))\n",
    "})\n",
    "\n",
    "ETCV.fit(X_train,Y_train)\n",
    "\n",
    "filename = 'extra_trees_GS_nontwitter'\n",
    "pickle.dump(ETCV, open(filename,'wb')) \n"
   ]
  },
  {
   "cell_type": "code",
   "execution_count": 13,
   "id": "fd0f9d7b",
   "metadata": {},
   "outputs": [
    {
     "name": "stdout",
     "output_type": "stream",
     "text": [
      "extra_trees_GS_twitter results on test data\n",
      "roc_auc: 0.5471163786737557\n",
      "accurarcy: 0.5656759348034516\n",
      "note 1 is Donald Trump\n"
     ]
    },
    {
     "data": {
      "text/plain": [
       "<sklearn.metrics._plot.confusion_matrix.ConfusionMatrixDisplay at 0x28768e50fa0>"
      ]
     },
     "execution_count": 13,
     "metadata": {},
     "output_type": "execute_result"
    },
    {
     "data": {
      "image/png": "[encoded data removed]",
      "text/plain": [
       "<Figure size 432x288 with 2 Axes>"
      ]
     },
     "metadata": {
      "needs_background": "light"
     },
     "output_type": "display_data"
    }
   ],
   "source": [
    "loaded_model = pickle.load(open(filename, 'rb'))\n",
    "\n",
    "print(filename+\" results on test data\")\n",
    "print(\"roc_auc:\",roc_auc_score(Y_test,loaded_model.predict(X_test)))\n",
    "print(\"accurarcy:\",accuracy_score(Y_test,loaded_model.predict(X_test)))\n",
    "print(\"note 1 is Donald Trump\")\n",
    "cm = confusion_matrix(Y_test,loaded_model.predict(X_test))\n",
    "ConfusionMatrixDisplay(cm).plot()"
   ]
  },
  {
   "cell_type": "code",
   "execution_count": 14,
   "id": "d3d7584c",
   "metadata": {},
   "outputs": [
    {
     "ename": "NameError",
     "evalue": "name 'twitter' is not defined",
     "output_type": "error",
     "traceback": [
      "\u001b[1;31m---------------------------------------------------------------------------\u001b[0m",
      "\u001b[1;31mNameError\u001b[0m                                 Traceback (most recent call last)",
      "\u001b[1;32m~\\AppData\\Local\\Temp/ipykernel_11772/2536747946.py\u001b[0m in \u001b[0;36m<module>\u001b[1;34m\u001b[0m\n\u001b[0;32m      3\u001b[0m     ETCV, X_test, Y_test, n_repeats=30, random_state=0, scoring=scoring)\n\u001b[0;32m      4\u001b[0m \u001b[1;33m\u001b[0m\u001b[0m\n\u001b[1;32m----> 5\u001b[1;33m \u001b[0mfeatures\u001b[0m\u001b[1;33m=\u001b[0m \u001b[0mlist\u001b[0m\u001b[1;33m(\u001b[0m\u001b[0mtwitter\u001b[0m\u001b[1;33m.\u001b[0m\u001b[0mcolumns\u001b[0m\u001b[1;33m)\u001b[0m\u001b[1;33m[\u001b[0m\u001b[1;36m6\u001b[0m\u001b[1;33m:\u001b[0m\u001b[1;33m-\u001b[0m\u001b[1;36m2\u001b[0m\u001b[1;33m]\u001b[0m\u001b[1;33m\u001b[0m\u001b[1;33m\u001b[0m\u001b[0m\n\u001b[0m\u001b[0;32m      6\u001b[0m \u001b[0mroc_auc_importance\u001b[0m \u001b[1;33m=\u001b[0m \u001b[1;33m[\u001b[0m\u001b[1;33m]\u001b[0m\u001b[1;33m\u001b[0m\u001b[1;33m\u001b[0m\u001b[0m\n\u001b[0;32m      7\u001b[0m \u001b[0mroc_auc_std\u001b[0m \u001b[1;33m=\u001b[0m \u001b[1;33m[\u001b[0m\u001b[1;33m]\u001b[0m\u001b[1;33m\u001b[0m\u001b[1;33m\u001b[0m\u001b[0m\n",
      "\u001b[1;31mNameError\u001b[0m: name 'twitter' is not defined"
     ]
    }
   ],
   "source": [
    "scoring = ['roc_auc', 'accuracy']#\n",
    "r_multi = permutation_importance(\n",
    "    ETCV, X_test, Y_test, n_repeats=30, random_state=0, scoring=scoring)\n",
    "\n",
    "features= list(nonTwitterDf.columns)[6:-2]\n",
    "roc_auc_importance = []\n",
    "roc_auc_std = []\n",
    "acc_importance =[]\n",
    "acc_std=[]\n",
    "for metric in r_multi:\n",
    "    print(f\"{metric}\")\n",
    "    r = r_multi[metric]\n",
    "    for i in range(len(features)):\n",
    "        #if r.importances_mean[i] - 2 * r.importances_std[i] > 0: ## do we want to know this?\n",
    "        print(i,f\"    {list(nonTwitterDf.columns)[6:-2][i]:<8}\"\n",
    "              f\"{r.importances_mean[i]:.3f}\"\n",
    "              f\" +/- {r.importances_std[i]:.3f}\")\n",
    "        if metric == 'roc_auc':\n",
    "            roc_auc_importance.append(r.importances_mean[i])\n",
    "            roc_auc_std.append(r.importances_std[i])\n",
    "        if metric == 'accuracy': \n",
    "            acc_importance.append(r.importances_mean[i])\n",
    "            acc_std.append(r.importances_std[i])"
   ]
  },
  {
   "cell_type": "code",
   "execution_count": null,
   "id": "8f25ef52",
   "metadata": {},
   "outputs": [],
   "source": [
    "\n",
    "plt.figure(figsize=(15, 4))# this adjusts how far away the plots are from eachother\n",
    "\n",
    "ax = plt.subplot(121)\n",
    "ax.bar(features,acc_importance)\n",
    "plt.xticks(rotation = 'vertical')\n",
    "ax.set_title(\"Feature importance of Random Forest based on accuracy\")\n",
    "ax.set_ylabel(\"permutation importance\")\n",
    "\n",
    "ax = plt.subplot(122)## this is to put them next to each other and needs to be 1 integer greater\n",
    "ax.bar(features,roc_auc_importance)\n",
    "plt.xticks(rotation = 'vertical')\n",
    "ax.set_title(\"Feature importance of Random Forest based on roc_auc\")\n",
    "ax.set_ylabel(\"permutation importance\")\n",
    "plt.show()"
   ]
  },
  {
   "cell_type": "markdown",
   "id": "4f0976d1",
   "metadata": {},
   "source": [
    "## random forest"
   ]
  },
  {
   "cell_type": "code",
   "execution_count": null,
   "id": "a338f42e",
   "metadata": {},
   "outputs": [],
   "source": [
    "RFCV = GridSearchCV(RandomForestClassifier(), param_grid={ \n",
    "    'n_estimators' : list(range(1,100,granularity1)),\n",
    "    'max_depth': list(range(2,100,granularity1)),\n",
    "    'random_state': list(range(10,100,granularity1))\n",
    "\n",
    "})\n",
    "RFCV.fit(X_train,Y_train)\n",
    "\n",
    "filename = 'RFCV_GS_nontwitter'\n",
    "pickle.dump(RFCV, open(filename,'wb'))\n"
   ]
  },
  {
   "cell_type": "code",
   "execution_count": null,
   "id": "88e57889",
   "metadata": {
    "scrolled": true
   },
   "outputs": [],
   "source": [
    "loaded_model = pickle.load(open(filename, 'rb'))\n",
    "\n",
    "print(filename+\" results on test data\")\n",
    "print(\"roc_auc:\",roc_auc_score(Y_test,loaded_model.predict(X_test)))\n",
    "print(\"accurarcy:\",accuracy_score(Y_test,loaded_model.predict(X_test)))\n",
    "print(\"note 1 is Donald Trump\")\n",
    "cm = confusion_matrix(Y_test,loaded_model.predict(X_test))\n",
    "ConfusionMatrixDisplay(cm).plot()"
   ]
  },
  {
   "cell_type": "code",
   "execution_count": null,
   "id": "a7c9d431",
   "metadata": {
    "scrolled": true
   },
   "outputs": [],
   "source": [
    "## source: https://scikit-learn.org/stable/modules/permutation_importance.html#permutation-importance\n",
    "\n",
    "\n",
    "\n",
    "scoring = ['roc_auc', 'accuracy']#\n",
    "r_multi = permutation_importance(\n",
    "    RFCV, X_test, Y_test, n_repeats=30, random_state=0, scoring=scoring)\n",
    "\n",
    "features= list(nonTwitterDf.columns)[6:-2]\n",
    "roc_auc_importance = []\n",
    "roc_auc_std = []\n",
    "acc_importance =[]\n",
    "acc_std=[]\n",
    "for metric in r_multi:\n",
    "    print(f\"{metric}\")\n",
    "    r = r_multi[metric]\n",
    "    for i in range(len(features)):\n",
    "        #if r.importances_mean[i] - 2 * r.importances_std[i] > 0: ## do we want to know this?\n",
    "        print(i,f\"    {list(nonTwitterDf.columns)[6:-2][i]:<8}\"\n",
    "              f\"{r.importances_mean[i]:.3f}\"\n",
    "              f\" +/- {r.importances_std[i]:.3f}\")\n",
    "        if metric == 'roc_auc':\n",
    "            roc_auc_importance.append(r.importances_mean[i])\n",
    "            roc_auc_std.append(r.importances_std[i])\n",
    "        if metric == 'accuracy': \n",
    "            acc_importance.append(r.importances_mean[i])\n",
    "            acc_std.append(r.importances_std[i])"
   ]
  },
  {
   "cell_type": "code",
   "execution_count": null,
   "id": "f58aa35a",
   "metadata": {},
   "outputs": [],
   "source": []
  },
  {
   "cell_type": "code",
   "execution_count": null,
   "id": "897b6148",
   "metadata": {},
   "outputs": [],
   "source": []
  },
  {
   "cell_type": "code",
   "execution_count": null,
   "id": "d919a836",
   "metadata": {},
   "outputs": [],
   "source": [
    "\n",
    "plt.figure(figsize=(15, 4))# this adjusts how far away the plots are from eachother\n",
    "\n",
    "ax = plt.subplot(121)\n",
    "ax.bar(features,acc_importance)\n",
    "plt.xticks(rotation = 'vertical')\n",
    "ax.set_title(\"Feature importance of Random Forest based on accuracy\")\n",
    "ax.set_ylabel(\"permutation importance\")\n",
    "\n",
    "ax = plt.subplot(122)## this is to put them next to each other and needs to be 1 integer greater\n",
    "ax.bar(features,roc_auc_importance)\n",
    "plt.xticks(rotation = 'vertical')\n",
    "ax.set_title(\"Feature importance of Random Forest based on roc_auc\")\n",
    "ax.set_ylabel(\"permutation importance\")\n",
    "plt.show()\n"
   ]
  },
  {
   "cell_type": "code",
   "execution_count": null,
   "id": "5a5f6cc8",
   "metadata": {},
   "outputs": [],
   "source": []
  },
  {
   "cell_type": "code",
   "execution_count": null,
   "id": "d2058869",
   "metadata": {},
   "outputs": [],
   "source": []
  },
  {
   "cell_type": "markdown",
   "id": "6575ee70",
   "metadata": {},
   "source": [
    "## lasso"
   ]
  },
  {
   "cell_type": "code",
   "execution_count": null,
   "id": "66b11ef4",
   "metadata": {},
   "outputs": [],
   "source": [
    "LOCV = GridSearchCV( linear_model.Lasso(), param_grid={ \n",
    "    'alpha' : list(np.arange (.1, 50, .1))\n",
    "\n",
    "})\n",
    "LOCV.fit(X_train,Y_train)\n",
    "\n",
    "filename = 'lasso_GS_nontwitter'\n",
    "pickle.dump(LOCV, open(filename,'wb')) "
   ]
  },
  {
   "cell_type": "code",
   "execution_count": null,
   "id": "a755ac74",
   "metadata": {},
   "outputs": [],
   "source": [
    "loaded_model = pickle.load(open(filename, 'rb'))\n",
    "\n",
    "print(filename+\" results on test data\")\n",
    "print(\"roc_auc:\",roc_auc_score(Y_test,loaded_model.predict(X_test)))\n",
    "print(\"accurarcy:\",accuracy_score(Y_test,loaded_model.predict(X_test)))\n",
    "print(\"note 1 is Donald Trump\")\n",
    "cm = confusion_matrix(Y_test,loaded_model.predict(X_test))\n",
    "ConfusionMatrixDisplay(cm).plot()"
   ]
  },
  {
   "cell_type": "code",
   "execution_count": null,
   "id": "7ab3d6ba",
   "metadata": {},
   "outputs": [],
   "source": [
    "## no feature importance?\n",
    "## everything is 0 when computed "
   ]
  },
  {
   "cell_type": "markdown",
   "id": "95eab002",
   "metadata": {},
   "source": [
    "## neural net- may need to adjust parameters"
   ]
  },
  {
   "cell_type": "code",
   "execution_count": null,
   "id": "1ce893ee",
   "metadata": {},
   "outputs": [],
   "source": [
    "NNCV = GridSearchCV( MLPClassifier(max_iter=10000), param_grid={ \n",
    "    'solver' : ['lbfgs', 'sgd', 'adam'],\n",
    "    'alpha' : [1e-5,1e-4,1e-3,1e-2],\n",
    "    'activation': ['tanh', 'relu'],\n",
    "    'learning_rate': ['constant','adaptive'],\n",
    "\n",
    "})\n",
    "NNCV.fit(X_train,Y_train)\n",
    "\n",
    "filename = 'NNCV_GS_nontwitter'\n",
    "pickle.dump(NNCV, open(filename,'wb'))"
   ]
  },
  {
   "cell_type": "code",
   "execution_count": null,
   "id": "f2c244d3",
   "metadata": {},
   "outputs": [],
   "source": [
    "loaded_model = pickle.load(open(filename, 'rb'))\n",
    "\n",
    "print(filename+\" results on test data\")\n",
    "print(\"roc_auc:\",roc_auc_score(Y_test,loaded_model.predict(X_test)))\n",
    "print(\"accurarcy:\",accuracy_score(Y_test,loaded_model.predict(X_test)))\n",
    "print(\"note 1 is Donald Trump\")\n",
    "cm = confusion_matrix(Y_test,loaded_model.predict(X_test))\n",
    "ConfusionMatrixDisplay(cm).plot()"
   ]
  }
 ],
 "metadata": {
  "kernelspec": {
   "display_name": "Python 3 (ipykernel)",
   "language": "python",
   "name": "python3"
  },
  "language_info": {
   "codemirror_mode": {
    "name": "ipython",
    "version": 3
   },
   "file_extension": ".py",
   "mimetype": "text/x-python",
   "name": "python",
   "nbconvert_exporter": "python",
   "pygments_lexer": "ipython3",
   "version": "3.9.7"
  }
 },
 "nbformat": 4,
 "nbformat_minor": 5
}
