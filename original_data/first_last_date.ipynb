{
 "cells": [
  {
   "cell_type": "code",
   "execution_count": 1,
   "id": "47cdf395",
   "metadata": {},
   "outputs": [],
   "source": [
    "import pandas as pd\n",
    "import numpy as np \n",
    "import matplotlib.pyplot as plt\n",
    "\n",
    "\n"
   ]
  },
  {
   "cell_type": "code",
   "execution_count": null,
   "id": "ffebb7de",
   "metadata": {},
   "outputs": [],
   "source": [
    "fp = open(,'r')"
   ]
  },
  {
   "cell_type": "code",
   "execution_count": 3,
   "id": "cf9db939",
   "metadata": {},
   "outputs": [],
   "source": [
    "df = pd.read_csv('DT_data.csv')"
   ]
  },
  {
   "cell_type": "code",
   "execution_count": 8,
   "id": "a1f1cdea",
   "metadata": {},
   "outputs": [
    {
     "ename": "TypeError",
     "evalue": "cannot convert the series to <class 'int'>",
     "output_type": "error",
     "traceback": [
      "\u001b[0;31m---------------------------------------------------------------------------\u001b[0m",
      "\u001b[0;31mTypeError\u001b[0m                                 Traceback (most recent call last)",
      "\u001b[0;32m<ipython-input-8-15781424c8ca>\u001b[0m in \u001b[0;36m<module>\u001b[0;34m\u001b[0m\n\u001b[1;32m      1\u001b[0m \u001b[0;32mimport\u001b[0m \u001b[0mdatetime\u001b[0m\u001b[0;34m\u001b[0m\u001b[0;34m\u001b[0m\u001b[0m\n\u001b[0;32m----> 2\u001b[0;31m \u001b[0mdatetime\u001b[0m\u001b[0;34m.\u001b[0m\u001b[0mdate\u001b[0m\u001b[0;34m(\u001b[0m\u001b[0mdf\u001b[0m\u001b[0;34m[\u001b[0m\u001b[0;34m'DATE'\u001b[0m\u001b[0;34m]\u001b[0m\u001b[0;34m)\u001b[0m\u001b[0;34m\u001b[0m\u001b[0;34m\u001b[0m\u001b[0m\n\u001b[0m",
      "\u001b[0;32m/usr/local/programs/anaconda3/lib/python3.8/site-packages/pandas/core/series.py\u001b[0m in \u001b[0;36mwrapper\u001b[0;34m(self)\u001b[0m\n\u001b[1;32m    139\u001b[0m         \u001b[0;32mif\u001b[0m \u001b[0mlen\u001b[0m\u001b[0;34m(\u001b[0m\u001b[0mself\u001b[0m\u001b[0;34m)\u001b[0m \u001b[0;34m==\u001b[0m \u001b[0;36m1\u001b[0m\u001b[0;34m:\u001b[0m\u001b[0;34m\u001b[0m\u001b[0;34m\u001b[0m\u001b[0m\n\u001b[1;32m    140\u001b[0m             \u001b[0;32mreturn\u001b[0m \u001b[0mconverter\u001b[0m\u001b[0;34m(\u001b[0m\u001b[0mself\u001b[0m\u001b[0;34m.\u001b[0m\u001b[0miloc\u001b[0m\u001b[0;34m[\u001b[0m\u001b[0;36m0\u001b[0m\u001b[0;34m]\u001b[0m\u001b[0;34m)\u001b[0m\u001b[0;34m\u001b[0m\u001b[0;34m\u001b[0m\u001b[0m\n\u001b[0;32m--> 141\u001b[0;31m         \u001b[0;32mraise\u001b[0m \u001b[0mTypeError\u001b[0m\u001b[0;34m(\u001b[0m\u001b[0;34mf\"cannot convert the series to {converter}\"\u001b[0m\u001b[0;34m)\u001b[0m\u001b[0;34m\u001b[0m\u001b[0;34m\u001b[0m\u001b[0m\n\u001b[0m\u001b[1;32m    142\u001b[0m \u001b[0;34m\u001b[0m\u001b[0m\n\u001b[1;32m    143\u001b[0m     \u001b[0mwrapper\u001b[0m\u001b[0;34m.\u001b[0m\u001b[0m__name__\u001b[0m \u001b[0;34m=\u001b[0m \u001b[0;34mf\"__{converter.__name__}__\"\u001b[0m\u001b[0;34m\u001b[0m\u001b[0;34m\u001b[0m\u001b[0m\n",
      "\u001b[0;31mTypeError\u001b[0m: cannot convert the series to <class 'int'>"
     ]
    }
   ],
   "source": [
    "import datetime\n",
    "datetime.date(df['DATE'])"
   ]
  },
  {
   "cell_type": "code",
   "execution_count": 11,
   "id": "363b00a9",
   "metadata": {},
   "outputs": [],
   "source": [
    "df['DATE']= pd.to_datetime(df['DATE']) "
   ]
  },
  {
   "cell_type": "code",
   "execution_count": 13,
   "id": "a820ed30",
   "metadata": {},
   "outputs": [
    {
     "data": {
      "text/plain": [
       "Timestamp('2016-01-01 00:00:00')"
      ]
     },
     "execution_count": 13,
     "metadata": {},
     "output_type": "execute_result"
    }
   ],
   "source": [
    "df['DATE'].min()"
   ]
  },
  {
   "cell_type": "code",
   "execution_count": 14,
   "id": "15187fc1",
   "metadata": {},
   "outputs": [
    {
     "data": {
      "text/plain": [
       "Timestamp('2016-11-08 00:00:00')"
      ]
     },
     "execution_count": 14,
     "metadata": {},
     "output_type": "execute_result"
    }
   ],
   "source": [
    "df['DATE'].max()"
   ]
  },
  {
   "cell_type": "code",
   "execution_count": 15,
   "id": "a13e0457",
   "metadata": {},
   "outputs": [
    {
     "data": {
      "text/plain": [
       "Index(['Unnamed: 0', 'Unnamed: 0.1', 'DATE', 'CONTENT_LINK',\n",
       "       'CONTENT_CATEGORY', 'CONTENT_TYPE', 'CONTENT', 'PROCESSED', 'TWEETS',\n",
       "       'RETWEETS', '0', 'PRESS_RELEASE', 'NON_TWEETS'],\n",
       "      dtype='object')"
      ]
     },
     "execution_count": 15,
     "metadata": {},
     "output_type": "execute_result"
    }
   ],
   "source": [
    "df.columns"
   ]
  },
  {
   "cell_type": "code",
   "execution_count": 26,
   "id": "7ca9682f",
   "metadata": {},
   "outputs": [],
   "source": [
    "df1 = df.groupby('CONTENT_CATEGORY')\n",
    "table = pd.DataFrame(df1['DATE'].max())\n",
    "table = pd.concat([table ,pd.DataFrame(df1['DATE'].min())], axis = 1)"
   ]
  },
  {
   "cell_type": "code",
   "execution_count": 30,
   "id": "19569700",
   "metadata": {},
   "outputs": [
    {
     "data": {
      "text/html": [
       "<div>\n",
       "<style scoped>\n",
       "    .dataframe tbody tr th:only-of-type {\n",
       "        vertical-align: middle;\n",
       "    }\n",
       "\n",
       "    .dataframe tbody tr th {\n",
       "        vertical-align: top;\n",
       "    }\n",
       "\n",
       "    .dataframe thead th {\n",
       "        text-align: right;\n",
       "    }\n",
       "</style>\n",
       "<table border=\"1\" class=\"dataframe\">\n",
       "  <thead>\n",
       "    <tr style=\"text-align: right;\">\n",
       "      <th></th>\n",
       "      <th>max_date</th>\n",
       "      <th>min_date</th>\n",
       "    </tr>\n",
       "    <tr>\n",
       "      <th>CONTENT_CATEGORY</th>\n",
       "      <th></th>\n",
       "      <th></th>\n",
       "    </tr>\n",
       "  </thead>\n",
       "  <tbody>\n",
       "    <tr>\n",
       "      <th>others</th>\n",
       "      <td>2016-09-12</td>\n",
       "      <td>2016-07-21</td>\n",
       "    </tr>\n",
       "    <tr>\n",
       "      <th>press release</th>\n",
       "      <td>2016-07-16</td>\n",
       "      <td>2016-01-03</td>\n",
       "    </tr>\n",
       "    <tr>\n",
       "      <th>remarks</th>\n",
       "      <td>2016-11-07</td>\n",
       "      <td>2016-03-21</td>\n",
       "    </tr>\n",
       "    <tr>\n",
       "      <th>statement</th>\n",
       "      <td>2016-07-08</td>\n",
       "      <td>2016-02-13</td>\n",
       "    </tr>\n",
       "    <tr>\n",
       "      <th>tweet</th>\n",
       "      <td>2016-11-08</td>\n",
       "      <td>2016-01-01</td>\n",
       "    </tr>\n",
       "  </tbody>\n",
       "</table>\n",
       "</div>"
      ],
      "text/plain": [
       "                   max_date   min_date\n",
       "CONTENT_CATEGORY                      \n",
       "others           2016-09-12 2016-07-21\n",
       "press release    2016-07-16 2016-01-03\n",
       "remarks          2016-11-07 2016-03-21\n",
       "statement        2016-07-08 2016-02-13\n",
       "tweet            2016-11-08 2016-01-01"
      ]
     },
     "execution_count": 30,
     "metadata": {},
     "output_type": "execute_result"
    }
   ],
   "source": [
    "table.columns = [ 'max_date', 'min_date']\n",
    "table "
   ]
  },
  {
   "cell_type": "code",
   "execution_count": 39,
   "id": "89bd33af",
   "metadata": {},
   "outputs": [
    {
     "name": "stdout",
     "output_type": "stream",
     "text": [
      "Donald Trump collection start and end dates \n",
      "\n",
      "                   max_date   min_date\n",
      "CONTENT_CATEGORY                      \n",
      "others           2016-09-12 2016-07-21\n",
      "press release    2016-07-16 2016-01-03\n",
      "remarks          2016-11-07 2016-03-21\n",
      "statement        2016-07-08 2016-02-13\n",
      "tweet            2016-11-08 2016-01-01\n"
     ]
    }
   ],
   "source": [
    "print('Donald Trump collection start and end dates \\n')\n",
    "\n",
    "print(table.to_string())"
   ]
  },
  {
   "cell_type": "code",
   "execution_count": 33,
   "id": "f2209481",
   "metadata": {},
   "outputs": [
    {
     "name": "stdout",
     "output_type": "stream",
     "text": [
      "-\n",
      "m\n",
      "a\n",
      "x\n",
      "_\n",
      "d\n",
      "a\n",
      "t\n",
      "e\n",
      "m\n",
      "i\n",
      "n\n",
      "_\n",
      "d\n",
      "a\n",
      "t\n",
      "e\n",
      "C\n",
      "O\n",
      "N\n",
      "T\n",
      "E\n",
      "N\n",
      "T\n",
      "_\n",
      "C\n",
      "A\n",
      "T\n",
      "E\n",
      "G\n",
      "O\n",
      "R\n",
      "Y\n",
      "o\n",
      "t\n",
      "h\n",
      "e\n",
      "r\n",
      "s\n",
      "2\n",
      "0\n",
      "1\n",
      "6\n",
      "-\n",
      "0\n",
      "9\n",
      "-\n",
      "1\n",
      "2\n",
      "2\n",
      "0\n",
      "1\n",
      "6\n",
      "-\n",
      "0\n",
      "7\n",
      "-\n",
      "2\n",
      "1\n",
      "p\n",
      "r\n",
      "e\n",
      "s\n",
      "s\n",
      "r\n",
      "e\n",
      "l\n",
      "e\n",
      "a\n",
      "s\n",
      "e\n",
      "2\n",
      "0\n",
      "1\n",
      "6\n",
      "-\n",
      "0\n",
      "7\n",
      "-\n",
      "1\n",
      "6\n",
      "2\n",
      "0\n",
      "1\n",
      "6\n",
      "-\n",
      "0\n",
      "1\n",
      "-\n",
      "0\n",
      "3\n",
      "r\n",
      "e\n",
      "m\n",
      "a\n",
      "r\n",
      "k\n",
      "s\n",
      "2\n",
      "0\n",
      "1\n",
      "6\n",
      "-\n",
      "1\n",
      "1\n",
      "-\n",
      "0\n",
      "7\n",
      "2\n",
      "0\n",
      "1\n",
      "6\n",
      "-\n",
      "0\n",
      "3\n",
      "-\n",
      "2\n",
      "1\n",
      "s\n",
      "t\n",
      "a\n",
      "t\n",
      "e\n",
      "m\n",
      "e\n",
      "n\n",
      "t\n",
      "2\n",
      "0\n",
      "1\n",
      "6\n",
      "-\n",
      "0\n",
      "7\n",
      "-\n",
      "0\n",
      "8\n",
      "2\n",
      "0\n",
      "1\n",
      "6\n",
      "-\n",
      "0\n",
      "2\n",
      "-\n",
      "1\n",
      "3\n",
      "t\n",
      "w\n",
      "e\n",
      "e\n",
      "t\n",
      "2\n",
      "0\n",
      "1\n",
      "6\n",
      "-\n",
      "1\n",
      "1\n",
      "-\n",
      "0\n",
      "8\n",
      "2\n",
      "0\n",
      "1\n",
      "6\n",
      "-\n",
      "0\n",
      "1\n",
      "-\n",
      "0\n",
      "1\n",
      "-\n"
     ]
    }
   ],
   "source": [
    "import tabulate \n",
    "print(tabulate.tabulate(table.to_string()))"
   ]
  },
  {
   "cell_type": "code",
   "execution_count": null,
   "id": "73e9f6e0",
   "metadata": {},
   "outputs": [],
   "source": []
  }
 ],
 "metadata": {
  "kernelspec": {
   "display_name": "Python 3",
   "language": "python",
   "name": "python3"
  },
  "language_info": {
   "codemirror_mode": {
    "name": "ipython",
    "version": 3
   },
   "file_extension": ".py",
   "mimetype": "text/x-python",
   "name": "python",
   "nbconvert_exporter": "python",
   "pygments_lexer": "ipython3",
   "version": "3.8.8"
  }
 },
 "nbformat": 4,
 "nbformat_minor": 5
}
