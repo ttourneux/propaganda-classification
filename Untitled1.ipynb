{
 "cells": [
  {
   "cell_type": "code",
   "execution_count": 1,
   "id": "11f1456b",
   "metadata": {},
   "outputs": [
    {
     "ename": "SyntaxError",
     "evalue": "invalid syntax (<ipython-input-1-6e719e77b17f>, line 7)",
     "output_type": "error",
     "traceback": [
      "\u001b[0;36m  File \u001b[0;32m\"<ipython-input-1-6e719e77b17f>\"\u001b[0;36m, line \u001b[0;32m7\u001b[0m\n\u001b[0;31m    functions.graph_best_with_n_features(name,trained_model, data_name)`\u001b[0m\n\u001b[0m                                                                       ^\u001b[0m\n\u001b[0;31mSyntaxError\u001b[0m\u001b[0;31m:\u001b[0m invalid syntax\n"
     ]
    }
   ],
   "source": [
    "    model_names = ['extra trees', 'random forest',\"support vector machine\",'neural net','logistic regression']\n",
    "    for name in model_names:\n",
    "        model, param_grid = functions.choose_model(name)\n",
    "        trained_model = functions.model_training(name,model,X_train, Y_train, param_grid)\n",
    "        ## always save the model right after you train it!! \n",
    "        filename = functions.save_model(trained_model,name,data_name)\n",
    "        functions.graph_best_with_n_features(name,trained_model, data_name)`"
   ]
  },
  {
   "cell_type": "code",
   "execution_count": null,
   "id": "5b6b37a5",
   "metadata": {},
   "outputs": [],
   "source": []
  },
  {
   "cell_type": "code",
   "execution_count": 1,
   "id": "4ef6d6fa",
   "metadata": {},
   "outputs": [
    {
     "name": "stdout",
     "output_type": "stream",
     "text": [
      "done collecting data\n"
     ]
    },
    {
     "data": {
      "image/png": "[encoded data removed]",
      "text/plain": [
       "<Figure size 432x288 with 1 Axes>"
      ]
     },
     "metadata": {
      "needs_background": "light"
     },
     "output_type": "display_data"
    }
   ],
   "source": [
    "import functions\n",
    "name = 'extra trees'\n",
    "data_name = 'twitter'\n",
    "\n",
    "filename = name+'_GS_'+data_name\n",
    "\n",
    "\n",
    "functions.graph_best_with_n_features(name,filename,data_name)"
   ]
  },
  {
   "cell_type": "code",
   "execution_count": 8,
   "id": "5a98d551",
   "metadata": {},
   "outputs": [
    {
     "name": "stdout",
     "output_type": "stream",
     "text": [
      "Index(['mean_fit_time', 'std_fit_time', 'mean_score_time', 'std_score_time',\n",
      "       'param_extra trees__max_depth', 'param_extra trees__max_leaf_nodes',\n",
      "       'param_sfs__n_features_to_select', 'params', 'split0_test_score',\n",
      "       'split1_test_score', 'split2_test_score', 'split3_test_score',\n",
      "       'split4_test_score', 'mean_test_score', 'std_test_score',\n",
      "       'rank_test_score'],\n",
      "      dtype='object')\n"
     ]
    },
    {
     "data": {
      "text/plain": [
       "'\\nfor i in n_feat_list:\\n    #print(i)\\n    Maximum = scores.loc[scores.loc[:,\"param_sequentialfeatureselector__n_features_to_select\"]==i,:].max()[0]\\n    feat_n[i] = [Maximum]\\n#feat_n   \\ndf = pd.DataFrame(feat_n)\\ndf = df.transpose()\\n#print(df)\\n#print(list(df.columns))\\ndf.plot(kind = \\'bar\\')\\nplt.xticks(rotation = 0)\\nplt.yticks(np.arange(.5,.75,.05))\\nplt.ylim(bottom = .5)\\nplt.title(data_name+\\'_\\'+ name +\"accuracy per model-data pair\")\\nplt.savefig(\"figures/\"+data_name+\\'_\\'+ name + \\'_n_feat.png\\')\\nplt.show()'"
      ]
     },
     "execution_count": 8,
     "metadata": {},
     "output_type": "execute_result"
    }
   ],
   "source": [
    "    import pickle\n",
    "    import pandas as pd\n",
    "\n",
    "\n",
    "    loaded_model = pickle.load(open(\"trained_models/\"+filename, 'rb'))\n",
    "    fitted_model = loaded_model\n",
    "    \n",
    "    df_cv_scores=pd.DataFrame(fitted_model.cv_results_).sort_values(by='rank_test_score')\n",
    "    print(df_cv_scores.columns)\n",
    "    #scores = df_cv_scores.loc[:,[\"mean_test_score\",\"param_sequentialfeatureselector__n_features_to_select\"]]\n",
    "    #n_feat_list = scores.loc[:,'param_sequentialfeatureselector__n_features_to_select'].unique()\n",
    "\n",
    "    feat_n = {}\n",
    "'''\n",
    "    for i in n_feat_list:\n",
    "        #print(i)\n",
    "        Maximum = scores.loc[scores.loc[:,\"param_sequentialfeatureselector__n_features_to_select\"]==i,:].max()[0]\n",
    "        feat_n[i] = [Maximum]\n",
    "    #feat_n   \n",
    "    df = pd.DataFrame(feat_n)\n",
    "    df = df.transpose()\n",
    "    #print(df)\n",
    "    #print(list(df.columns))\n",
    "    df.plot(kind = 'bar')\n",
    "    plt.xticks(rotation = 0)\n",
    "    plt.yticks(np.arange(.5,.75,.05))\n",
    "    plt.ylim(bottom = .5)\n",
    "    plt.title(data_name+'_'+ name +\"accuracy per model-data pair\")\n",
    "    plt.savefig(\"figures/\"+data_name+'_'+ name + '_n_feat.png')\n",
    "    plt.show()'''"
   ]
  },
  {
   "cell_type": "code",
   "execution_count": null,
   "id": "a70621fd",
   "metadata": {},
   "outputs": [],
   "source": []
  }
 ],
 "metadata": {
  "kernelspec": {
   "display_name": "Python 3",
   "language": "python",
   "name": "python3"
  },
  "language_info": {
   "codemirror_mode": {
    "name": "ipython",
    "version": 3
   },
   "file_extension": ".py",
   "mimetype": "text/x-python",
   "name": "python",
   "nbconvert_exporter": "python",
   "pygments_lexer": "ipython3",
   "version": "3.8.8"
  }
 },
 "nbformat": 4,
 "nbformat_minor": 5
}
